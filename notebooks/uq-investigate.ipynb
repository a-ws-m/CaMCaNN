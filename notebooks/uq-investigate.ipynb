{
 "cells": [
  {
   "cell_type": "code",
   "execution_count": 1,
   "metadata": {},
   "outputs": [],
   "source": [
    "import pandas as pd\n",
    "import plotly.express as px\n",
    "\n",
    "import molplotly\n",
    "\n",
    "DO_NIST: bool = True"
   ]
  },
  {
   "cell_type": "code",
   "execution_count": 2,
   "metadata": {},
   "outputs": [],
   "source": [
    "df = pd.read_csv(\"uq_nist_pred.csv\" if DO_NIST else \"uq_predictions.csv\", header=0, index_col=0)\n",
    "df[\"uq\"] = df[\"stddev\"] * 2"
   ]
  },
  {
   "cell_type": "code",
   "execution_count": 3,
   "metadata": {},
   "outputs": [
    {
     "data": {
      "text/html": [
       "\n",
       "        <iframe\n",
       "            width=\"100%\"\n",
       "            height=\"650\"\n",
       "            src=\"http://127.0.0.1:8700/\"\n",
       "            frameborder=\"0\"\n",
       "            allowfullscreen\n",
       "            \n",
       "        ></iframe>\n",
       "        "
      ],
      "text/plain": [
       "<IPython.lib.display.IFrame at 0x7f4969de79d0>"
      ]
     },
     "metadata": {},
     "output_type": "display_data"
    }
   ],
   "source": [
    "try:\n",
    "    fig = px.scatter(df, x=\"log CMC\", y=\"pred\", error_y=\"uq\")\n",
    "except ValueError:\n",
    "    fig = px.scatter(df, x=\"exp\", y=\"pred\", error_y=\"uq\")\n",
    "fig.update_layout(width=1000, height=1000)\n",
    "fig.update_xaxes(range=[-2, 7])\n",
    "fig.update_yaxes(range=[-2, 7])\n",
    "# fig.update_yaxes(scaleanchor=\"x\", scaleratio=1)\n",
    "fig[\"layout\"].update(scene=dict(aspectmode=\"data\"))\n",
    "fig.add_shape(type=\"line\", x0=0, y0=0, x1=1, y1=1, line={\"color\": \"Black\"}, xref=\"paper\", yref=\"paper\")\n",
    "if \"SMILES\" in df.columns:\n",
    "    app = molplotly.add_molecules(fig=fig, df=df, smiles_col=\"SMILES\")\n",
    "else:\n",
    "    app = molplotly.add_molecules(fig=fig, df=df, smiles_col=\"smiles\")\n",
    "app.run_server(mode=\"inline\", port=8700)"
   ]
  }
 ],
 "metadata": {
  "kernelspec": {
   "display_name": "Python 3.10.6 ('camcann')",
   "language": "python",
   "name": "python3"
  },
  "language_info": {
   "codemirror_mode": {
    "name": "ipython",
    "version": 3
   },
   "file_extension": ".py",
   "mimetype": "text/x-python",
   "name": "python",
   "nbconvert_exporter": "python",
   "pygments_lexer": "ipython3",
   "version": "3.10.6"
  },
  "orig_nbformat": 4,
  "vscode": {
   "interpreter": {
    "hash": "0a015a287190a7e4f27a5dffc15020a8d8de9495212ba7eabbb44373d4119eab"
   }
  }
 },
 "nbformat": 4,
 "nbformat_minor": 2
}
