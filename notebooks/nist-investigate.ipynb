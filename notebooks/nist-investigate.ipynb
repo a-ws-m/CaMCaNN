{
 "cells": [
  {
   "cell_type": "code",
   "execution_count": 1,
   "metadata": {},
   "outputs": [],
   "source": [
    "import pandas as pd\n",
    "import plotly.express as px\n",
    "\n",
    "import molplotly"
   ]
  },
  {
   "cell_type": "code",
   "execution_count": 2,
   "metadata": {},
   "outputs": [],
   "source": [
    "df = pd.read_csv(\"nist-predictions.csv\", header=0, index_col=0)"
   ]
  },
  {
   "cell_type": "code",
   "execution_count": 3,
   "metadata": {},
   "outputs": [],
   "source": [
    "# fig, ax = plt.subplots()\n",
    "# sns.scatterplot(data=df, x=\"log CMC\", y=\"pred\", ax=ax)\n",
    "# lims = (min([*ax.get_xlim(), *ax.get_ylim()]), max([*ax.get_xlim(), *ax.get_ylim()]))\n",
    "# ax.plot(lims, lims, linestyle=\"--\")\n",
    "# ax.set_xlim(lims)\n",
    "# ax.set_ylim(lims)\n",
    "# ax.set_aspect(\"equal\")"
   ]
  },
  {
   "cell_type": "code",
   "execution_count": 4,
   "metadata": {},
   "outputs": [
    {
     "data": {
      "text/html": [
       "\n",
       "        <iframe\n",
       "            width=\"100%\"\n",
       "            height=\"650\"\n",
       "            src=\"http://127.0.0.1:8700/\"\n",
       "            frameborder=\"0\"\n",
       "            allowfullscreen\n",
       "            \n",
       "        ></iframe>\n",
       "        "
      ],
      "text/plain": [
       "<IPython.lib.display.IFrame at 0x208a318fa00>"
      ]
     },
     "metadata": {},
     "output_type": "display_data"
    }
   ],
   "source": [
    "fig = px.scatter(df, x=\"log CMC\", y=\"pred\")\n",
    "fig.update_layout(width=1000, height=1000)\n",
    "fig.update_xaxes(range=[-1, 6.2])\n",
    "fig.update_yaxes(range=[-1, 6.2])\n",
    "# fig.update_yaxes(scaleanchor=\"x\", scaleratio=1)\n",
    "fig[\"layout\"].update(scene=dict(aspectmode=\"data\"))\n",
    "fig.add_shape(type=\"line\", x0=0, y0=0, x1=1, y1=1, line={\"color\": \"Black\"}, xref=\"paper\", yref=\"paper\")\n",
    "app = molplotly.add_molecules(fig=fig, df=df, smiles_col=\"SMILES\")\n",
    "app.run_server(mode=\"inline\", port=8700)"
   ]
  }
 ],
 "metadata": {
  "kernelspec": {
   "display_name": "Python 3.10.6 ('camcann')",
   "language": "python",
   "name": "python3"
  },
  "language_info": {
   "codemirror_mode": {
    "name": "ipython",
    "version": 3
   },
   "file_extension": ".py",
   "mimetype": "text/x-python",
   "name": "python",
   "nbconvert_exporter": "python",
   "pygments_lexer": "ipython3",
   "version": "3.10.6"
  },
  "orig_nbformat": 4,
  "vscode": {
   "interpreter": {
    "hash": "9ce59170dfbe5c01770d6f66953ef16419d0bbc8db583fba7cc80e4ff7e134e3"
   }
  }
 },
 "nbformat": 4,
 "nbformat_minor": 2
}
