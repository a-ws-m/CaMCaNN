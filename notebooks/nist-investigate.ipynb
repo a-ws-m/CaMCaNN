{
 "cells": [
  {
   "cell_type": "code",
   "execution_count": 1,
   "metadata": {},
   "outputs": [],
   "source": [
    "import pandas as pd\n",
    "import plotly.express as px\n",
    "\n",
    "# import molplotly"
   ]
  },
  {
   "cell_type": "code",
   "execution_count": 2,
   "metadata": {},
   "outputs": [],
   "source": [
    "df = pd.read_csv(\"nist-predictions.csv\", header=0, index_col=0)"
   ]
  },
  {
   "cell_type": "code",
   "execution_count": 3,
   "metadata": {},
   "outputs": [],
   "source": [
    "def get_ionicity(smiles: str) -> str:\n",
    "    \"\"\"Get a label for the ionicity of a surfactant.\"\"\"\n",
    "    if \".\" in smiles:\n",
    "        smiles = smiles.split(\".\")[0]\n",
    "    has_pos = \"+\" in smiles\n",
    "    has_neg = \"-\" in smiles\n",
    "    if has_pos and has_neg:\n",
    "        return \"zwitterionic\"\n",
    "    elif has_pos:\n",
    "        return \"cationic\"\n",
    "    elif has_neg:\n",
    "        return \"anionic\"\n",
    "    else:\n",
    "        return \"nonionic\""
   ]
  },
  {
   "cell_type": "code",
   "execution_count": 4,
   "metadata": {},
   "outputs": [
    {
     "data": {
      "text/plain": [
       "anionic         23\n",
       "nonionic        12\n",
       "cationic         6\n",
       "zwitterionic     2\n",
       "Name: ionicity, dtype: int64"
      ]
     },
     "execution_count": 4,
     "metadata": {},
     "output_type": "execute_result"
    }
   ],
   "source": [
    "df[\"ionicity\"] = df[\"SMILES\"].apply(get_ionicity)\n",
    "df[\"ionicity\"].value_counts()"
   ]
  },
  {
   "cell_type": "code",
   "execution_count": 7,
   "metadata": {},
   "outputs": [
    {
     "data": {
      "text/html": [
       "<div>\n",
       "<style scoped>\n",
       "    .dataframe tbody tr th:only-of-type {\n",
       "        vertical-align: middle;\n",
       "    }\n",
       "\n",
       "    .dataframe tbody tr th {\n",
       "        vertical-align: top;\n",
       "    }\n",
       "\n",
       "    .dataframe thead th {\n",
       "        text-align: right;\n",
       "    }\n",
       "</style>\n",
       "<table border=\"1\" class=\"dataframe\">\n",
       "  <thead>\n",
       "    <tr style=\"text-align: right;\">\n",
       "      <th></th>\n",
       "      <th>SMILES</th>\n",
       "      <th>log CMC</th>\n",
       "      <th>pred</th>\n",
       "      <th>ionicity</th>\n",
       "    </tr>\n",
       "  </thead>\n",
       "  <tbody>\n",
       "    <tr>\n",
       "      <th>17</th>\n",
       "      <td>C[N+](C)([O-])CCC(F)(F)C(F)(F)C(F)(F)C(F)(F)C(...</td>\n",
       "      <td>2.672098</td>\n",
       "      <td>3.634391</td>\n",
       "      <td>zwitterionic</td>\n",
       "    </tr>\n",
       "    <tr>\n",
       "      <th>18</th>\n",
       "      <td>CCCCCCCCC[N+](C)(C)[O-]</td>\n",
       "      <td>4.732394</td>\n",
       "      <td>3.455957</td>\n",
       "      <td>zwitterionic</td>\n",
       "    </tr>\n",
       "  </tbody>\n",
       "</table>\n",
       "</div>"
      ],
      "text/plain": [
       "                                               SMILES   log CMC      pred  \\\n",
       "17  C[N+](C)([O-])CCC(F)(F)C(F)(F)C(F)(F)C(F)(F)C(...  2.672098  3.634391   \n",
       "18                            CCCCCCCCC[N+](C)(C)[O-]  4.732394  3.455957   \n",
       "\n",
       "        ionicity  \n",
       "17  zwitterionic  \n",
       "18  zwitterionic  "
      ]
     },
     "execution_count": 7,
     "metadata": {},
     "output_type": "execute_result"
    }
   ],
   "source": [
    "df[df[\"ionicity\"] == \"zwitterionic\"]"
   ]
  },
  {
   "cell_type": "code",
   "execution_count": 5,
   "metadata": {},
   "outputs": [],
   "source": [
    "# fig, ax = plt.subplots()\n",
    "# sns.scatterplot(data=df, x=\"log CMC\", y=\"pred\", ax=ax)\n",
    "# lims = (min([*ax.get_xlim(), *ax.get_ylim()]), max([*ax.get_xlim(), *ax.get_ylim()]))\n",
    "# ax.plot(lims, lims, linestyle=\"--\")\n",
    "# ax.set_xlim(lims)\n",
    "# ax.set_ylim(lims)\n",
    "# ax.set_aspect(\"equal\")"
   ]
  },
  {
   "cell_type": "code",
   "execution_count": 6,
   "metadata": {},
   "outputs": [
    {
     "ename": "NameError",
     "evalue": "name 'molplotly' is not defined",
     "output_type": "error",
     "traceback": [
      "\u001b[1;31m---------------------------------------------------------------------------\u001b[0m",
      "\u001b[1;31mNameError\u001b[0m                                 Traceback (most recent call last)",
      "Cell \u001b[1;32mIn [6], line 8\u001b[0m\n\u001b[0;32m      6\u001b[0m fig[\u001b[39m\"\u001b[39m\u001b[39mlayout\u001b[39m\u001b[39m\"\u001b[39m]\u001b[39m.\u001b[39mupdate(scene\u001b[39m=\u001b[39m\u001b[39mdict\u001b[39m(aspectmode\u001b[39m=\u001b[39m\u001b[39m\"\u001b[39m\u001b[39mdata\u001b[39m\u001b[39m\"\u001b[39m))\n\u001b[0;32m      7\u001b[0m fig\u001b[39m.\u001b[39madd_shape(\u001b[39mtype\u001b[39m\u001b[39m=\u001b[39m\u001b[39m\"\u001b[39m\u001b[39mline\u001b[39m\u001b[39m\"\u001b[39m, x0\u001b[39m=\u001b[39m\u001b[39m0\u001b[39m, y0\u001b[39m=\u001b[39m\u001b[39m0\u001b[39m, x1\u001b[39m=\u001b[39m\u001b[39m1\u001b[39m, y1\u001b[39m=\u001b[39m\u001b[39m1\u001b[39m, line\u001b[39m=\u001b[39m{\u001b[39m\"\u001b[39m\u001b[39mcolor\u001b[39m\u001b[39m\"\u001b[39m: \u001b[39m\"\u001b[39m\u001b[39mBlack\u001b[39m\u001b[39m\"\u001b[39m}, xref\u001b[39m=\u001b[39m\u001b[39m\"\u001b[39m\u001b[39mpaper\u001b[39m\u001b[39m\"\u001b[39m, yref\u001b[39m=\u001b[39m\u001b[39m\"\u001b[39m\u001b[39mpaper\u001b[39m\u001b[39m\"\u001b[39m)\n\u001b[1;32m----> 8\u001b[0m app \u001b[39m=\u001b[39m molplotly\u001b[39m.\u001b[39madd_molecules(fig\u001b[39m=\u001b[39mfig, df\u001b[39m=\u001b[39mdf, smiles_col\u001b[39m=\u001b[39m\u001b[39m\"\u001b[39m\u001b[39mSMILES\u001b[39m\u001b[39m\"\u001b[39m)\n\u001b[0;32m      9\u001b[0m app\u001b[39m.\u001b[39mrun_server(mode\u001b[39m=\u001b[39m\u001b[39m\"\u001b[39m\u001b[39minline\u001b[39m\u001b[39m\"\u001b[39m, port\u001b[39m=\u001b[39m\u001b[39m8700\u001b[39m)\n",
      "\u001b[1;31mNameError\u001b[0m: name 'molplotly' is not defined"
     ]
    }
   ],
   "source": [
    "fig = px.scatter(df, x=\"log CMC\", y=\"pred\")\n",
    "fig.update_layout(width=1000, height=1000)\n",
    "fig.update_xaxes(range=[-1, 6.2])\n",
    "fig.update_yaxes(range=[-1, 6.2])\n",
    "# fig.update_yaxes(scaleanchor=\"x\", scaleratio=1)\n",
    "fig[\"layout\"].update(scene=dict(aspectmode=\"data\"))\n",
    "fig.add_shape(type=\"line\", x0=0, y0=0, x1=1, y1=1, line={\"color\": \"Black\"}, xref=\"paper\", yref=\"paper\")\n",
    "app = molplotly.add_molecules(fig=fig, df=df, smiles_col=\"SMILES\")\n",
    "app.run_server(mode=\"inline\", port=8700)"
   ]
  }
 ],
 "metadata": {
  "kernelspec": {
   "display_name": "Python 3.10.8 ('analyse')",
   "language": "python",
   "name": "python3"
  },
  "language_info": {
   "codemirror_mode": {
    "name": "ipython",
    "version": 3
   },
   "file_extension": ".py",
   "mimetype": "text/x-python",
   "name": "python",
   "nbconvert_exporter": "python",
   "pygments_lexer": "ipython3",
   "version": "3.10.8"
  },
  "orig_nbformat": 4,
  "vscode": {
   "interpreter": {
    "hash": "836687259393218fa75ce46b3686097c4bacd7ee279dbf2c3cbfc2b66b33050c"
   }
  }
 },
 "nbformat": 4,
 "nbformat_minor": 2
}
