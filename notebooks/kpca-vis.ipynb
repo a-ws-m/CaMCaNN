{
 "cells": [
  {
   "cell_type": "code",
   "execution_count": 1,
   "metadata": {},
   "outputs": [],
   "source": [
    "import re\n",
    "\n",
    "import matplotlib.pyplot as plt\n",
    "import pandas as pd\n",
    "import plotly.express as px\n",
    "import seaborn as sns"
   ]
  },
  {
   "cell_type": "code",
   "execution_count": 2,
   "metadata": {},
   "outputs": [
    {
     "data": {
      "text/html": [
       "<div>\n",
       "<style scoped>\n",
       "    .dataframe tbody tr th:only-of-type {\n",
       "        vertical-align: middle;\n",
       "    }\n",
       "\n",
       "    .dataframe tbody tr th {\n",
       "        vertical-align: top;\n",
       "    }\n",
       "\n",
       "    .dataframe thead th {\n",
       "        text-align: right;\n",
       "    }\n",
       "</style>\n",
       "<table border=\"1\" class=\"dataframe\">\n",
       "  <thead>\n",
       "    <tr style=\"text-align: right;\">\n",
       "      <th></th>\n",
       "      <th>Unnamed: 0</th>\n",
       "      <th>SMILES</th>\n",
       "      <th>log CMC</th>\n",
       "      <th>traintest</th>\n",
       "      <th>pred</th>\n",
       "      <th>type</th>\n",
       "      <th>err</th>\n",
       "      <th>Molecules</th>\n",
       "      <th>Molecule name</th>\n",
       "      <th>Molecule weight</th>\n",
       "      <th>Average temperature</th>\n",
       "      <th>CMC (M)</th>\n",
       "      <th>Convertable</th>\n",
       "      <th>Component 1</th>\n",
       "      <th>Component 2</th>\n",
       "    </tr>\n",
       "  </thead>\n",
       "  <tbody>\n",
       "    <tr>\n",
       "      <th>0</th>\n",
       "      <td>0</td>\n",
       "      <td>CCCCCCCCC(O)CO</td>\n",
       "      <td>3.361728</td>\n",
       "      <td>train</td>\n",
       "      <td>3.284244</td>\n",
       "      <td>nonionic</td>\n",
       "      <td>0.006004</td>\n",
       "      <td>&lt;rdkit.Chem.rdchem.Mol object at 0x00000258C9A...</td>\n",
       "      <td>NaN</td>\n",
       "      <td>NaN</td>\n",
       "      <td>NaN</td>\n",
       "      <td>NaN</td>\n",
       "      <td>NaN</td>\n",
       "      <td>-0.664938</td>\n",
       "      <td>-0.100419</td>\n",
       "    </tr>\n",
       "    <tr>\n",
       "      <th>1</th>\n",
       "      <td>1</td>\n",
       "      <td>CCCCCCCCC(O)CCO</td>\n",
       "      <td>3.361728</td>\n",
       "      <td>train</td>\n",
       "      <td>3.240318</td>\n",
       "      <td>nonionic</td>\n",
       "      <td>0.014740</td>\n",
       "      <td>&lt;rdkit.Chem.rdchem.Mol object at 0x00000258C9A...</td>\n",
       "      <td>NaN</td>\n",
       "      <td>NaN</td>\n",
       "      <td>NaN</td>\n",
       "      <td>NaN</td>\n",
       "      <td>NaN</td>\n",
       "      <td>-0.661460</td>\n",
       "      <td>-0.100952</td>\n",
       "    </tr>\n",
       "    <tr>\n",
       "      <th>2</th>\n",
       "      <td>2</td>\n",
       "      <td>CCCCCCCCCCCCC(O)CCO</td>\n",
       "      <td>1.113943</td>\n",
       "      <td>train</td>\n",
       "      <td>1.194439</td>\n",
       "      <td>nonionic</td>\n",
       "      <td>0.006479</td>\n",
       "      <td>&lt;rdkit.Chem.rdchem.Mol object at 0x00000258C9A...</td>\n",
       "      <td>NaN</td>\n",
       "      <td>NaN</td>\n",
       "      <td>NaN</td>\n",
       "      <td>NaN</td>\n",
       "      <td>NaN</td>\n",
       "      <td>-0.637144</td>\n",
       "      <td>-0.095752</td>\n",
       "    </tr>\n",
       "    <tr>\n",
       "      <th>3</th>\n",
       "      <td>3</td>\n",
       "      <td>CCCCCCCCOCCO</td>\n",
       "      <td>3.690196</td>\n",
       "      <td>train</td>\n",
       "      <td>3.669114</td>\n",
       "      <td>nonionic</td>\n",
       "      <td>0.000444</td>\n",
       "      <td>&lt;rdkit.Chem.rdchem.Mol object at 0x00000258C9A...</td>\n",
       "      <td>NaN</td>\n",
       "      <td>NaN</td>\n",
       "      <td>NaN</td>\n",
       "      <td>NaN</td>\n",
       "      <td>NaN</td>\n",
       "      <td>-0.645677</td>\n",
       "      <td>-0.093879</td>\n",
       "    </tr>\n",
       "    <tr>\n",
       "      <th>4</th>\n",
       "      <td>4</td>\n",
       "      <td>CCCCCCCCOCCOCCOCCO</td>\n",
       "      <td>3.875061</td>\n",
       "      <td>train</td>\n",
       "      <td>3.857243</td>\n",
       "      <td>nonionic</td>\n",
       "      <td>0.000318</td>\n",
       "      <td>&lt;rdkit.Chem.rdchem.Mol object at 0x00000258C9A...</td>\n",
       "      <td>NaN</td>\n",
       "      <td>NaN</td>\n",
       "      <td>NaN</td>\n",
       "      <td>NaN</td>\n",
       "      <td>NaN</td>\n",
       "      <td>-0.656497</td>\n",
       "      <td>-0.097073</td>\n",
       "    </tr>\n",
       "  </tbody>\n",
       "</table>\n",
       "</div>"
      ],
      "text/plain": [
       "   Unnamed: 0               SMILES   log CMC traintest      pred      type  \\\n",
       "0           0       CCCCCCCCC(O)CO  3.361728     train  3.284244  nonionic   \n",
       "1           1      CCCCCCCCC(O)CCO  3.361728     train  3.240318  nonionic   \n",
       "2           2  CCCCCCCCCCCCC(O)CCO  1.113943     train  1.194439  nonionic   \n",
       "3           3         CCCCCCCCOCCO  3.690196     train  3.669114  nonionic   \n",
       "4           4   CCCCCCCCOCCOCCOCCO  3.875061     train  3.857243  nonionic   \n",
       "\n",
       "        err                                          Molecules Molecule name  \\\n",
       "0  0.006004  <rdkit.Chem.rdchem.Mol object at 0x00000258C9A...           NaN   \n",
       "1  0.014740  <rdkit.Chem.rdchem.Mol object at 0x00000258C9A...           NaN   \n",
       "2  0.006479  <rdkit.Chem.rdchem.Mol object at 0x00000258C9A...           NaN   \n",
       "3  0.000444  <rdkit.Chem.rdchem.Mol object at 0x00000258C9A...           NaN   \n",
       "4  0.000318  <rdkit.Chem.rdchem.Mol object at 0x00000258C9A...           NaN   \n",
       "\n",
       "   Molecule weight  Average temperature  CMC (M) Convertable  Component 1  \\\n",
       "0              NaN                  NaN      NaN         NaN    -0.664938   \n",
       "1              NaN                  NaN      NaN         NaN    -0.661460   \n",
       "2              NaN                  NaN      NaN         NaN    -0.637144   \n",
       "3              NaN                  NaN      NaN         NaN    -0.645677   \n",
       "4              NaN                  NaN      NaN         NaN    -0.656497   \n",
       "\n",
       "   Component 2  \n",
       "0    -0.100419  \n",
       "1    -0.100952  \n",
       "2    -0.095752  \n",
       "3    -0.093879  \n",
       "4    -0.097073  "
      ]
     },
     "execution_count": 2,
     "metadata": {},
     "output_type": "execute_result"
    }
   ],
   "source": [
    "kernel_2_df = pd.read_csv(\"kernel_components_2.csv\")\n",
    "kernel_2_df.head()"
   ]
  },
  {
   "cell_type": "code",
   "execution_count": 3,
   "metadata": {},
   "outputs": [
    {
     "data": {
      "text/html": [
       "<div>\n",
       "<style scoped>\n",
       "    .dataframe tbody tr th:only-of-type {\n",
       "        vertical-align: middle;\n",
       "    }\n",
       "\n",
       "    .dataframe tbody tr th {\n",
       "        vertical-align: top;\n",
       "    }\n",
       "\n",
       "    .dataframe thead th {\n",
       "        text-align: right;\n",
       "    }\n",
       "</style>\n",
       "<table border=\"1\" class=\"dataframe\">\n",
       "  <thead>\n",
       "    <tr style=\"text-align: right;\">\n",
       "      <th></th>\n",
       "      <th>Unnamed: 0</th>\n",
       "      <th>SMILES</th>\n",
       "      <th>log CMC</th>\n",
       "      <th>traintest</th>\n",
       "      <th>pred</th>\n",
       "      <th>type</th>\n",
       "      <th>err</th>\n",
       "      <th>Molecules</th>\n",
       "      <th>Molecule name</th>\n",
       "      <th>Molecule weight</th>\n",
       "      <th>Average temperature</th>\n",
       "      <th>CMC (M)</th>\n",
       "      <th>Convertable</th>\n",
       "      <th>Component 1</th>\n",
       "      <th>Component 2</th>\n",
       "      <th>Component 3</th>\n",
       "    </tr>\n",
       "  </thead>\n",
       "  <tbody>\n",
       "    <tr>\n",
       "      <th>0</th>\n",
       "      <td>0</td>\n",
       "      <td>CCCCCCCCC(O)CO</td>\n",
       "      <td>3.361728</td>\n",
       "      <td>train</td>\n",
       "      <td>3.284244</td>\n",
       "      <td>nonionic</td>\n",
       "      <td>0.006004</td>\n",
       "      <td>&lt;rdkit.Chem.rdchem.Mol object at 0x000001633A6...</td>\n",
       "      <td>NaN</td>\n",
       "      <td>NaN</td>\n",
       "      <td>NaN</td>\n",
       "      <td>NaN</td>\n",
       "      <td>NaN</td>\n",
       "      <td>-0.664938</td>\n",
       "      <td>-0.100419</td>\n",
       "      <td>-0.138057</td>\n",
       "    </tr>\n",
       "    <tr>\n",
       "      <th>1</th>\n",
       "      <td>1</td>\n",
       "      <td>CCCCCCCCC(O)CCO</td>\n",
       "      <td>3.361728</td>\n",
       "      <td>train</td>\n",
       "      <td>3.240318</td>\n",
       "      <td>nonionic</td>\n",
       "      <td>0.014740</td>\n",
       "      <td>&lt;rdkit.Chem.rdchem.Mol object at 0x000001633A6...</td>\n",
       "      <td>NaN</td>\n",
       "      <td>NaN</td>\n",
       "      <td>NaN</td>\n",
       "      <td>NaN</td>\n",
       "      <td>NaN</td>\n",
       "      <td>-0.661460</td>\n",
       "      <td>-0.100952</td>\n",
       "      <td>-0.136119</td>\n",
       "    </tr>\n",
       "    <tr>\n",
       "      <th>2</th>\n",
       "      <td>2</td>\n",
       "      <td>CCCCCCCCCCCCC(O)CCO</td>\n",
       "      <td>1.113943</td>\n",
       "      <td>train</td>\n",
       "      <td>1.194439</td>\n",
       "      <td>nonionic</td>\n",
       "      <td>0.006479</td>\n",
       "      <td>&lt;rdkit.Chem.rdchem.Mol object at 0x000001633A6...</td>\n",
       "      <td>NaN</td>\n",
       "      <td>NaN</td>\n",
       "      <td>NaN</td>\n",
       "      <td>NaN</td>\n",
       "      <td>NaN</td>\n",
       "      <td>-0.637144</td>\n",
       "      <td>-0.095752</td>\n",
       "      <td>-0.138802</td>\n",
       "    </tr>\n",
       "    <tr>\n",
       "      <th>3</th>\n",
       "      <td>3</td>\n",
       "      <td>CCCCCCCCOCCO</td>\n",
       "      <td>3.690196</td>\n",
       "      <td>train</td>\n",
       "      <td>3.669114</td>\n",
       "      <td>nonionic</td>\n",
       "      <td>0.000444</td>\n",
       "      <td>&lt;rdkit.Chem.rdchem.Mol object at 0x000001633A6...</td>\n",
       "      <td>NaN</td>\n",
       "      <td>NaN</td>\n",
       "      <td>NaN</td>\n",
       "      <td>NaN</td>\n",
       "      <td>NaN</td>\n",
       "      <td>-0.645677</td>\n",
       "      <td>-0.093879</td>\n",
       "      <td>-0.111324</td>\n",
       "    </tr>\n",
       "    <tr>\n",
       "      <th>4</th>\n",
       "      <td>4</td>\n",
       "      <td>CCCCCCCCOCCOCCOCCO</td>\n",
       "      <td>3.875061</td>\n",
       "      <td>train</td>\n",
       "      <td>3.857243</td>\n",
       "      <td>nonionic</td>\n",
       "      <td>0.000318</td>\n",
       "      <td>&lt;rdkit.Chem.rdchem.Mol object at 0x000001633A6...</td>\n",
       "      <td>NaN</td>\n",
       "      <td>NaN</td>\n",
       "      <td>NaN</td>\n",
       "      <td>NaN</td>\n",
       "      <td>NaN</td>\n",
       "      <td>-0.656497</td>\n",
       "      <td>-0.097073</td>\n",
       "      <td>-0.117374</td>\n",
       "    </tr>\n",
       "  </tbody>\n",
       "</table>\n",
       "</div>"
      ],
      "text/plain": [
       "   Unnamed: 0               SMILES   log CMC traintest      pred      type  \\\n",
       "0           0       CCCCCCCCC(O)CO  3.361728     train  3.284244  nonionic   \n",
       "1           1      CCCCCCCCC(O)CCO  3.361728     train  3.240318  nonionic   \n",
       "2           2  CCCCCCCCCCCCC(O)CCO  1.113943     train  1.194439  nonionic   \n",
       "3           3         CCCCCCCCOCCO  3.690196     train  3.669114  nonionic   \n",
       "4           4   CCCCCCCCOCCOCCOCCO  3.875061     train  3.857243  nonionic   \n",
       "\n",
       "        err                                          Molecules Molecule name  \\\n",
       "0  0.006004  <rdkit.Chem.rdchem.Mol object at 0x000001633A6...           NaN   \n",
       "1  0.014740  <rdkit.Chem.rdchem.Mol object at 0x000001633A6...           NaN   \n",
       "2  0.006479  <rdkit.Chem.rdchem.Mol object at 0x000001633A6...           NaN   \n",
       "3  0.000444  <rdkit.Chem.rdchem.Mol object at 0x000001633A6...           NaN   \n",
       "4  0.000318  <rdkit.Chem.rdchem.Mol object at 0x000001633A6...           NaN   \n",
       "\n",
       "   Molecule weight  Average temperature  CMC (M) Convertable  Component 1  \\\n",
       "0              NaN                  NaN      NaN         NaN    -0.664938   \n",
       "1              NaN                  NaN      NaN         NaN    -0.661460   \n",
       "2              NaN                  NaN      NaN         NaN    -0.637144   \n",
       "3              NaN                  NaN      NaN         NaN    -0.645677   \n",
       "4              NaN                  NaN      NaN         NaN    -0.656497   \n",
       "\n",
       "   Component 2  Component 3  \n",
       "0    -0.100419    -0.138057  \n",
       "1    -0.100952    -0.136119  \n",
       "2    -0.095752    -0.138802  \n",
       "3    -0.093879    -0.111324  \n",
       "4    -0.097073    -0.117374  "
      ]
     },
     "execution_count": 3,
     "metadata": {},
     "output_type": "execute_result"
    }
   ],
   "source": [
    "kernel_3_df = pd.read_csv(\"kernel_components_3.csv\")\n",
    "kernel_3_df.head()"
   ]
  },
  {
   "cell_type": "code",
   "execution_count": 4,
   "metadata": {},
   "outputs": [],
   "source": [
    "def get_counterion(smiles: str) -> str:\n",
    "    \"\"\"Get the counterion for a smiles string\"\"\"\n",
    "    pattern = r\"\\.(?P<counterion>\\S+)\"\n",
    "    match = re.search(pattern, smiles)\n",
    "    if match:\n",
    "        return match.group(\"counterion\")\n",
    "    else:\n",
    "        return \"Nonionic\""
   ]
  },
  {
   "cell_type": "code",
   "execution_count": 5,
   "metadata": {},
   "outputs": [],
   "source": [
    "def add_cols(df: pd.DataFrame):\n",
    "    df[\"Counterion\"] = df[\"SMILES\"].apply(get_counterion)\n",
    "    df[\"Source\"] = [\"Qin\" if pd.isna(convertable) else \"NIST\" for convertable in df[\"Convertable\"]]"
   ]
  },
  {
   "cell_type": "code",
   "execution_count": 6,
   "metadata": {},
   "outputs": [],
   "source": [
    "add_cols(kernel_3_df)\n",
    "add_cols(kernel_2_df)"
   ]
  },
  {
   "attachments": {},
   "cell_type": "markdown",
   "metadata": {},
   "source": [
    "Now let's filter out the counterions that only occur in the NIST data."
   ]
  },
  {
   "cell_type": "code",
   "execution_count": 7,
   "metadata": {},
   "outputs": [],
   "source": [
    "nist_df = kernel_2_df[kernel_2_df[\"Source\"] == \"NIST\"]\n",
    "qin_df = kernel_2_df[kernel_2_df[\"Source\"] == \"Qin\"]\n",
    "\n",
    "qin_counterions = set(qin_df[\"Counterion\"].unique())\n",
    "nist_counterions = set(nist_df[\"Counterion\"].unique())\n",
    "\n",
    "nist_only = nist_counterions - qin_counterions\n",
    "\n",
    "def filter_entries(entry) -> bool:\n",
    "    return entry[\"Source\"] == \"Qin\" or entry[\"Counterion\"] in nist_only\n",
    "\n",
    "# kernel_df = kernel_df[[filter_entries(entry) for idx, entry in kernel_df.iterrows()]]"
   ]
  },
  {
   "cell_type": "code",
   "execution_count": 8,
   "metadata": {},
   "outputs": [
    {
     "name": "stdout",
     "output_type": "stream",
     "text": [
      "{'[Br-]', 'CCCCCCCCCCCCOC(=O)CC(=O)[O-].[K+].[K+]', 'CCCCCCCC[N+](C)(C)C.CCCCCCCC[N+](C)(C)C.O=S(=O)([O-])[O-]', '[Cl-]', 'CCCCCCCCOC(=O)CC(=O)[O-].[K+].[K+]', '[Na+]', 'C[N+](C)(C)C', 'CCCCCC[N+](C)(C)C.CCCCCC[N+](C)(C)C.O=S(=O)([O-])[O-]', 'Nonionic', 'CCCCCCCC[N+](C)(C)C', '[O-][Br+2]([O-])[O-]', 'CCCCCCCCCC[N+](C)(C)C', 'O=[N+]([O-])[O-]', 'CCCCCCCCCCCCCCOC(=O)CC(=O)[O-].[K+].[K+]', 'O=C[O-]'}\n"
     ]
    }
   ],
   "source": [
    "print(nist_counterions)"
   ]
  },
  {
   "cell_type": "code",
   "execution_count": 9,
   "metadata": {},
   "outputs": [
    {
     "data": {
      "text/plain": [
       "<seaborn.axisgrid.FacetGrid at 0x272c8ce37c0>"
      ]
     },
     "execution_count": 9,
     "metadata": {},
     "output_type": "execute_result"
    },
    {
     "data": {
      "image/png": "[encoded data removed]",
      "text/plain": [
       "<Figure size 581.75x500 with 1 Axes>"
      ]
     },
     "metadata": {},
     "output_type": "display_data"
    }
   ],
   "source": [
    "sns.relplot(kernel_2_df, x=\"Component 1\", y=\"Component 2\", hue=\"log CMC\", style=\"Source\")"
   ]
  },
  {
   "cell_type": "code",
   "execution_count": 10,
   "metadata": {},
   "outputs": [
    {
     "data": {
      "text/plain": [
       "(-0.8997239799311985,\n",
       " 1.311188343400472,\n",
       " -0.3847257335349694,\n",
       " 2.5325005120260444)"
      ]
     },
     "execution_count": 10,
     "metadata": {},
     "output_type": "execute_result"
    },
    {
     "data": {
      "image/png": "[encoded data removed]",
      "text/plain": [
       "<Figure size 1000x700 with 1 Axes>"
      ]
     },
     "metadata": {},
     "output_type": "display_data"
    }
   ],
   "source": [
    "fig, ax = plt.subplots(1, 1, figsize=(10, 7))\n",
    "sns.kdeplot(kernel_2_df[kernel_2_df[\"Source\"] == \"Qin\"], x=\"Component 1\", y=\"Component 2\", palette=\"Greys\", hue=\"Source\", fill=True, ax=ax, bw_adjust=0.25)\n",
    "sns.set_palette(\"bright\")\n",
    "# sns.scatterplot(kernel_2_df[kernel_2_df[\"Source\"] == \"NIST\"], x=\"Component 1\", y=\"Component 2\", hue=\"Counterion\", ax=ax)\n",
    "sns.scatterplot(kernel_2_df, x=\"Component 1\", y=\"Component 2\", hue=\"Counterion\", ax=ax)\n",
    "sns.move_legend(ax, \"upper left\", bbox_to_anchor=(1, 1))\n",
    "ax.axis(\"equal\")"
   ]
  },
  {
   "cell_type": "code",
   "execution_count": 11,
   "metadata": {},
   "outputs": [
    {
     "data": {
      "application/vnd.plotly.v1+json": {
       "config": {
        "plotlyServerURL": "https://plot.ly"
       },
       "data": [
        {
         "hovertemplate": "Counterion=Nonionic<br>Source=Qin<br>Component 1=%{x}<br>Component 2=%{y}<br>Component 3=%{z}<extra></extra>",
         "legendgroup": "Nonionic, Qin",
         "marker": {
          "color": "#636efa",
          "symbol": "circle"
         },
         "mode": "markers",
         "name": "Nonionic, Qin",
         "scene": "scene",
         "showlegend": true,
         "type": "scatter3d",
         "x": [
          -0.6649377409324794,
          -0.6614604899630603,
          -0.6371438049667181,
          -0.6456766724588169,
          -0.656497378324164,
          -0.6573128949909749,
          -0.6538215663972446,
          -0.662807774200161,
          -0.6621594643940251,
          -0.6588476023418041,
          -0.6453126766954611,
          -0.6429459949762586,
          -0.6452331058924454,
          -0.6500948743479217,
          -0.652498414873625,
          -0.652376953067391,
          -0.6446664694058435,
          -0.6373318102644224,
          -0.6422311540692638,
          -0.6286081939206958,
          -0.6274053161525587,
          -0.6172367800759552,
          -0.6036146165473966,
          -0.5961654713290911,
          -0.5930341081206795,
          -0.5813689225908676,
          -0.5540417283274276,
          -0.5197903850021295,
          -0.4430192522816594,
          -0.6657829486463765,
          -0.4407242092829672,
          -0.4391486818254178,
          -0.4333507510860753,
          -0.4244558471353518,
          -0.6130619205895158,
          -0.1381206327155629,
          -0.137217225563708,
          -0.138315222152077,
          -0.139133097171366,
          -0.1396691717473098,
          -0.1399225767752679,
          -0.1398932602277017,
          -0.1395819849606176,
          -0.1389903233172189,
          -0.4409651565882144,
          -0.4391152360330267,
          -0.425220548143212,
          -0.4941821225896908,
          -0.4744708844613149,
          -0.6649652792432517,
          -0.6745495280674277,
          -0.6194528738936383,
          -0.627639458228631,
          -0.607577710563428,
          -0.65612529522261,
          -0.5957211944852825,
          -0.6464122851338043,
          -0.6238340126414955,
          -0.664182431954429,
          -0.6170572917255103,
          -0.6620486996001141,
          -0.5816859149121446,
          -0.6333911208109939,
          -0.6350839080188315,
          -0.6467699911498752,
          -0.6523155469404956,
          -0.6301596462836343,
          -0.6602417267830984,
          -0.6500937433630715,
          -0.6228141774097512,
          -0.5801705711442501,
          -0.6598812537185065,
          -0.6549189362509493,
          -0.6462379263607718,
          -0.5848878278294228,
          -0.5228791059864725,
          -0.621946540197842,
          -0.6554410733425386,
          -0.5709837687060182,
          -0.6561045946759427,
          -0.5617770839042531,
          -0.6633938823032066,
          -0.5709787440067355,
          -0.6633398121157352,
          -0.662866824305164,
          -0.3682842613576444,
          -0.3666744552065203,
          -0.350986033225952,
          -0.6800190824854696,
          -0.6749350001193481,
          -0.6725444109237233,
          -0.6379638333421984,
          -0.6646040987612793,
          -0.6333811011387094,
          -0.590716043356917,
          -0.5586276999363673,
          -0.6392298910119465,
          -0.6131404459837614,
          -0.6438332366587857,
          -0.6168679426009842,
          -0.6658731082938296,
          -0.6624799290284903,
          -0.6800106195146359,
          -0.6553113662603088,
          -0.6690226091095816,
          -0.6364053671480474,
          -0.6254961661389791,
          -0.5723351730156819,
          -0.6366267359297452,
          -0.6302087676991052,
          -0.6477753256993745,
          -0.630492060717298,
          -0.6202901419640073,
          -0.6212762106972984,
          -0.610579515981902,
          -0.6797365106199231,
          -0.6794891596719994,
          -0.6379527699290238,
          -0.660692950706137,
          -0.6497187538409963,
          -0.6401143656250387,
          -0.6354821730906461,
          -0.3017611811245898,
          -0.3013281131859027,
          -0.2957232863808327,
          -0.2852556872931426,
          -0.0698609109800501,
          -0.0479262069614056,
          -0.0436688708555802,
          -0.2646102049159291,
          -0.2613879091855466,
          -0.1263816719150097,
          -0.1227240744052308
         ],
         "y": [
          -0.1004186034662607,
          -0.1009515086196135,
          -0.0957522743506671,
          -0.0938792664366251,
          -0.0970732115674058,
          -0.0957335947721337,
          -0.0932823190732483,
          -0.10231705464748,
          -0.1011339109316756,
          -0.0987222180347378,
          -0.0907167910816363,
          -0.0910717683779139,
          -0.098957446286174,
          -0.1003343151110775,
          -0.1005511892536518,
          -0.0995836661063975,
          -0.0941714780723296,
          -0.0898582797853223,
          -0.096260492358041,
          -0.087123700841809,
          -0.0897200509684266,
          -0.0830675064487011,
          -0.0778680436536982,
          -0.0774450968130281,
          -0.0749980416052068,
          -0.0675292456575106,
          -0.0514496968131351,
          -0.0315997807758293,
          0.0141837690692735,
          -0.1027698528134158,
          0.0239594239822913,
          0.0257296527376417,
          0.0303613729874124,
          0.0363870133816207,
          -0.0576337593415612,
          0.3963062944899559,
          0.3918834044261599,
          0.3942706862793155,
          0.3961393526736808,
          0.3974857734898366,
          0.3983070128578617,
          0.3986008399632841,
          0.3983657375058987,
          0.397600911734091,
          0.0271715713303496,
          0.0220350446298868,
          0.0347380049883211,
          -0.0133994285552408,
          -0.0090900292926325,
          -0.0993382210155558,
          -0.1005351620458823,
          -0.0652545832331778,
          -0.0721565033614251,
          -0.0582046788594105,
          -0.0884161104961178,
          -0.0512311519900165,
          -0.0823934911631221,
          -0.0688039203230003,
          -0.0953204415349833,
          -0.0641119274244773,
          -0.092735996949698,
          -0.0423768856794886,
          -0.0749026614691516,
          -0.0755632562898678,
          -0.0832280055936487,
          -0.0793027505140306,
          -0.0632264613829299,
          -0.0848355469196059,
          -0.0775879073262791,
          -0.0690785871745841,
          -0.0476982699051672,
          -0.0892699299130235,
          -0.0854432256084844,
          -0.0799512600869581,
          -0.0457090868683184,
          -0.0093858668809856,
          -0.0695764307736157,
          -0.0951478158043478,
          -0.054282837362399,
          -0.0890921406010884,
          -0.0439390528889883,
          -0.0956601832278811,
          -0.0512636169114995,
          -0.0911162236148123,
          -0.0905738175889223,
          0.1194037869126709,
          0.1258247438468228,
          0.1383277490250074,
          -0.1039088436029454,
          -0.0999886055168141,
          -0.0974034881027719,
          -0.0749670322113645,
          -0.0968998960325836,
          -0.0756427291294326,
          -0.0612221635114432,
          -0.0484306499196024,
          -0.0882730696290527,
          -0.0691402814105321,
          -0.09029931529014,
          -0.0707636586083226,
          -0.1028270033805916,
          -0.0957417135259295,
          -0.10623348130761,
          -0.0877675688605092,
          -0.1042719659226428,
          -0.0809169038616529,
          -0.0796318977063103,
          -0.0473708996074602,
          -0.0739701223861163,
          -0.0738184605595755,
          -0.0871286006580811,
          -0.0683863949068075,
          -0.0647714871261591,
          -0.0679479364800336,
          -0.0657085102238551,
          -0.1045113331849261,
          -0.1042452372064579,
          -0.0852908693443351,
          -0.1022206274365742,
          -0.0974331514589071,
          -0.0853011453932792,
          -0.0853092578640507,
          -0.0869241986024696,
          -0.0900527648714886,
          -0.0893205684228156,
          -0.0848332532226425,
          -0.0498248507591047,
          -0.0449022756341699,
          -0.0431133168515343,
          -0.0834369541336719,
          -0.0843269372284995,
          -0.0611936790260113,
          -0.0609203018834157
         ],
         "z": [
          -0.1380571666430989,
          -0.1361190503009722,
          -0.1388018690647041,
          -0.1113239946605993,
          -0.1173739852082892,
          -0.1150454759964705,
          -0.1105872623430164,
          -0.1348258690688741,
          -0.1328461499946359,
          -0.1285025630904331,
          -0.1140770238389273,
          -0.118748903155705,
          -0.1345405209494425,
          -0.1377713504448093,
          -0.1387695140356139,
          -0.1374671512832906,
          -0.1281528440177864,
          -0.1204944446313708,
          -0.1347389976627968,
          -0.1193537654387242,
          -0.1267401635947906,
          -0.115815340379955,
          -0.1103224054608162,
          -0.1118640332017449,
          -0.1083368617747966,
          -0.0967259381627513,
          -0.0720359272451301,
          -0.0438750206409219,
          0.0112930373503959,
          -0.1464129769173693,
          0.0370761890629332,
          0.0390089137437974,
          0.0436372991144413,
          0.0492160300501226,
          -0.0849104064581644,
          1.26757751714782,
          1.2645708811185563,
          1.2813917117346705,
          1.2935644790561691,
          1.3010409137353582,
          1.3037910708962648,
          1.301803484397706,
          1.2950852302619384,
          1.2836619170302244,
          0.0385605643118815,
          0.0782784041034069,
          0.1030918305341372,
          0.0292589359167688,
          0.0194076448402964,
          -0.1360793104645757,
          -0.140688778182485,
          -0.0689376992674678,
          -0.095291119817561,
          -0.0618952999647837,
          -0.1328223110848534,
          -0.0473191693858597,
          -0.1179124106969217,
          -0.0862903338473099,
          -0.1526801238629661,
          -0.0750310934764882,
          -0.1444632157969118,
          -0.024887716816026,
          -0.1004787245352015,
          -0.0962073447763273,
          -0.1186757190362843,
          -0.0364545567811755,
          0.029889459317437,
          -0.0515197684659695,
          -0.0287181960034544,
          -0.0972766431526213,
          0.0168749726698744,
          -0.1436214643658399,
          -0.132846997666713,
          -0.1188586437133711,
          -0.0695992431198632,
          -0.0309026803264699,
          -0.0907252488974579,
          -0.1570027920482309,
          -0.0356977585363649,
          -0.1332427363618324,
          -0.0075217301503325,
          -0.1523599453633477,
          -0.0244680730322025,
          -0.116999462717001,
          -0.116326845470349,
          0.5561002940610444,
          0.545282610112765,
          0.5239378158226098,
          -0.1536744591085472,
          -0.1423998516973656,
          -0.1549754514121293,
          -0.1312843799557024,
          -0.1601560391852391,
          -0.1396700584028164,
          -0.1252553881741519,
          -0.1088969367276893,
          -0.1498865243379812,
          -0.1346320097113517,
          -0.1531704301879468,
          -0.1369244072753323,
          -0.1479900850581638,
          -0.1559523320534954,
          -0.1587023308242577,
          -0.1441103552086296,
          -0.1611388688227817,
          -0.1400756554958712,
          -0.1432273020421777,
          -0.1053862958486817,
          -0.1294431675292584,
          -0.1361672518135458,
          -0.1499620405717777,
          -0.1115992423866404,
          -0.1154741747169132,
          -0.128533927725967,
          -0.1310124048964329,
          -0.152078525930848,
          -0.1517659026460057,
          -0.0889240390097543,
          -0.134294375940594,
          -0.133863422594207,
          -0.0963764265470685,
          -0.1044863918954751,
          0.0867849610039124,
          0.0807363903474203,
          0.075364559415334,
          0.0705844109612136,
          0.1642026779304921,
          0.1658351277531078,
          0.1590922537707731,
          0.1034230708205629,
          0.0977912171513355,
          0.1496347013016146,
          0.1439751786866735
         ]
        },
        {
         "hovertemplate": "Counterion=Nonionic<br>Source=NIST<br>Component 1=%{x}<br>Component 2=%{y}<br>Component 3=%{z}<extra></extra>",
         "legendgroup": "Nonionic, NIST",
         "marker": {
          "color": "#636efa",
          "symbol": "diamond"
         },
         "mode": "markers",
         "name": "Nonionic, NIST",
         "scene": "scene",
         "showlegend": true,
         "type": "scatter3d",
         "x": [
          -0.6431146856623223,
          -0.6214122098735635,
          -0.5214065459555017,
          -0.6126898863640132,
          -0.5994397805015796,
          -0.6351980472077735,
          -0.6395124648169935,
          -0.6385675894448565,
          -0.3163066152315724,
          -0.3825850529585287,
          -0.6162621856459956,
          -0.6304585634913626
         ],
         "y": [
          -0.0806557980151238,
          -0.0682385751290178,
          0.0083649309535867,
          -0.0589308897281716,
          -0.0885058125444379,
          -0.0815610904040726,
          -0.0851705458459845,
          -0.0839138763267012,
          0.1866000299864005,
          0.0573093237288121,
          -0.0827916565054122,
          -0.080022833254461
         ],
         "z": [
          -0.0439417551294002,
          -0.0234672316959328,
          0.2624825091892562,
          0.0268003998598983,
          -0.0842711117090646,
          -0.0822567828562368,
          -0.0886800010200833,
          -0.0864156500787213,
          0.7900023075817433,
          0.0808999483000002,
          -0.0806860913503186,
          -0.0872600736456015
         ]
        },
        {
         "hovertemplate": "Counterion=[Br-]<br>Source=Qin<br>Component 1=%{x}<br>Component 2=%{y}<br>Component 3=%{z}<extra></extra>",
         "legendgroup": "[Br-], Qin",
         "marker": {
          "color": "#EF553B",
          "symbol": "circle"
         },
         "mode": "markers",
         "name": "[Br-], Qin",
         "scene": "scene",
         "showlegend": true,
         "type": "scatter3d",
         "x": [
          0.9280569449803626,
          0.945256802183208,
          0.9543881916074618,
          0.953582837152894,
          0.9428816345582846,
          0.9508289819201478,
          0.9573616645027196,
          0.9612881473359705,
          0.9624038075396912,
          0.9606381083200816,
          0.9560616688749034,
          0.9489129226549032,
          0.9603350933397166,
          0.9511562922058489,
          0.9555006686608364,
          0.9491567992101088,
          0.9612871918709096,
          0.9192968226945548,
          0.8767542170682776,
          0.9491567992101082,
          0.91180689697076
         ],
         "y": [
          -0.221914173289478,
          -0.2357822024758182,
          -0.2430309997208928,
          -0.2422665508929273,
          -0.233486393361776,
          -0.2421257616763651,
          -0.2472919370240912,
          -0.2503620729127334,
          -0.2511800630128017,
          -0.2496889799228403,
          -0.2459372925633338,
          -0.2401010850453138,
          -0.2513742858924079,
          -0.2364683284671301,
          -0.2406645515684713,
          -0.2353973951070933,
          -0.2510780828432398,
          -0.2004985228280059,
          -0.1551874704226312,
          -0.2353973951070933,
          -0.2044687762127326
         ],
         "z": [
          -0.0284518087368143,
          -0.0382572025858931,
          -0.0454730014468294,
          -0.04940458798544,
          -0.0500275297306372,
          -0.0467679986237748,
          -0.0510199167125819,
          -0.0544189282283771,
          -0.0568819295457949,
          -0.0583739107714424,
          -0.0589102332046585,
          -0.0585673017701693,
          -0.0570914134603762,
          -0.0072028641514985,
          -0.0168898846092345,
          -0.0192238460258434,
          -0.0604351350458965,
          0.0495051908977427,
          0.1111468284655095,
          -0.0192238460258434,
          -0.0167440537772194
         ]
        },
        {
         "hovertemplate": "Counterion=[Br-]<br>Source=NIST<br>Component 1=%{x}<br>Component 2=%{y}<br>Component 3=%{z}<extra></extra>",
         "legendgroup": "[Br-], NIST",
         "marker": {
          "color": "#EF553B",
          "symbol": "diamond"
         },
         "mode": "markers",
         "name": "[Br-], NIST",
         "scene": "scene",
         "showlegend": true,
         "type": "scatter3d",
         "x": [
          0.9506616292740632
         ],
         "y": [
          -0.2396728560185976
         ],
         "z": [
          -0.0464069258136881
         ]
        },
        {
         "hovertemplate": "Counterion=[Cl-]<br>Source=Qin<br>Component 1=%{x}<br>Component 2=%{y}<br>Component 3=%{z}<extra></extra>",
         "legendgroup": "[Cl-], Qin",
         "marker": {
          "color": "#00cc96",
          "symbol": "circle"
         },
         "mode": "markers",
         "name": "[Cl-], Qin",
         "scene": "scene",
         "showlegend": true,
         "type": "scatter3d",
         "x": [
          1.0358964681607952,
          1.0446881723827826,
          1.0430287616048566,
          1.0509113970535455,
          1.0496346172625728,
          1.0378859185976197,
          1.0182112221275963,
          1.0425126140388552,
          1.0519563926543711,
          1.0501736509708466,
          1.035861583505904,
          1.033704654501962,
          1.0416364424962965
         ],
         "y": [
          -0.2125843801349278,
          -0.2193108698442417,
          -0.2181989615153369,
          -0.225537943077815,
          -0.2246530594821936,
          -0.215842733883688,
          -0.20082857808864,
          -0.2195249296227931,
          -0.2267025521572919,
          -0.2255192186267,
          -0.2126614450199725,
          -0.2112968307089064,
          -0.2178971893444514
         ],
         "z": [
          -0.0577037743883982,
          -0.0645805394725581,
          -0.0678879760560787,
          -0.07279862929303,
          -0.076236987709968,
          -0.0760123453858943,
          -0.0730554416003414,
          -0.0662667781784218,
          -0.0734222602213291,
          -0.0766528705627345,
          -0.0755853603243403,
          -0.0752809768860671,
          -0.0764852426137026
         ]
        },
        {
         "hovertemplate": "Counterion=[Cl-]<br>Source=NIST<br>Component 1=%{x}<br>Component 2=%{y}<br>Component 3=%{z}<extra></extra>",
         "legendgroup": "[Cl-], NIST",
         "marker": {
          "color": "#00cc96",
          "symbol": "diamond"
         },
         "mode": "markers",
         "name": "[Cl-], NIST",
         "scene": "scene",
         "showlegend": true,
         "type": "scatter3d",
         "x": [
          1.0558969300947756
         ],
         "y": [
          -0.2272338543475007
         ],
         "z": [
          -0.0772984572585123
         ]
        },
        {
         "hovertemplate": "Counterion=[I-]<br>Source=Qin<br>Component 1=%{x}<br>Component 2=%{y}<br>Component 3=%{z}<extra></extra>",
         "legendgroup": "[I-], Qin",
         "marker": {
          "color": "#ab63fa",
          "symbol": "circle"
         },
         "mode": "markers",
         "name": "[I-], Qin",
         "scene": "scene",
         "showlegend": true,
         "type": "scatter3d",
         "x": [
          0.5066036325503493
         ],
         "y": [
          -0.2119751422932536
         ],
         "z": [
          0.0043381030970007
         ]
        },
        {
         "hovertemplate": "Counterion=[Na+]<br>Source=Qin<br>Component 1=%{x}<br>Component 2=%{y}<br>Component 3=%{z}<extra></extra>",
         "legendgroup": "[Na+], Qin",
         "marker": {
          "color": "#FFA15A",
          "symbol": "circle"
         },
         "mode": "markers",
         "name": "[Na+], Qin",
         "scene": "scene",
         "showlegend": true,
         "type": "scatter3d",
         "x": [
          0.822068672905935,
          0.878052681293528,
          1.0896560558884931,
          1.0914834459547438,
          1.0020558410346443,
          0.9944504612442192,
          1.0877951714061391,
          0.9968696672175972,
          0.9939002852858412,
          0.9559484721253828,
          0.9686152981383476,
          1.0469316120361256,
          1.0643809037408145,
          1.0740838064501683,
          0.9206642735790024,
          0.9449423600252698,
          0.8901388279071527,
          0.9617913604615604,
          1.053130894128147,
          1.0384820785411926,
          0.8495991985526948,
          0.8464053052756783,
          0.955553242832234,
          1.0545393859345942
         ],
         "y": [
          0.0588207229689997,
          0.0071168444792884,
          -0.1663174143093571,
          -0.16839487426651,
          -0.1904005865757066,
          -0.1857556577868583,
          -0.1733179232340834,
          -0.1890405408977443,
          -0.1873558883444179,
          -0.1622755355937624,
          -0.1646367878507977,
          -0.1442459455168005,
          -0.1565776010132394,
          -0.1639041292048478,
          -0.0518839687426358,
          -0.0741323726370118,
          -0.012735850359891,
          -0.0900783802677498,
          -0.1635797787930469,
          -0.1504876549318771,
          -0.0281475635716688,
          -0.0249669831203293,
          -0.0828938228162518,
          -0.1622583537241372
         ],
         "z": [
          0.2005746760099333,
          0.1851609091426565,
          -0.0907743907769152,
          -0.0950858946348851,
          -0.0990214638349812,
          -0.0996766879251128,
          -0.094857294690719,
          -0.0988174743364898,
          -0.0975927134683696,
          -0.0899236867632905,
          -0.0536619820181865,
          -0.0632725057552199,
          -0.0735439054847242,
          -0.0810674884021029,
          0.0402218035096583,
          0.0171455586614709,
          0.130449252501127,
          -0.0017333219651771,
          -0.0504225873679164,
          -0.0352732681302116,
          -0.0209385897601449,
          -0.0193880055669022,
          0.0097237185653004,
          -0.0487484572112701
         ]
        },
        {
         "hovertemplate": "Counterion=[Na+]<br>Source=NIST<br>Component 1=%{x}<br>Component 2=%{y}<br>Component 3=%{z}<extra></extra>",
         "legendgroup": "[Na+], NIST",
         "marker": {
          "color": "#FFA15A",
          "symbol": "diamond"
         },
         "mode": "markers",
         "name": "[Na+], NIST",
         "scene": "scene",
         "showlegend": true,
         "type": "scatter3d",
         "x": [
          1.0757068636284752,
          1.0745338848922743,
          1.090648579881272,
          0.999469292030952,
          0.9981924281332646,
          0.97873661584468,
          1.0970745749757114,
          0.994658884314621,
          0.9876922954734396,
          1.0778066865975056,
          1.068651996006128,
          1.0945455416409762,
          1.0041506029625902,
          0.9975622137632514,
          1.0019915065199518
         ],
         "y": [
          -0.182784070009054,
          -0.1815890488309527,
          -0.1452338366701984,
          -0.1881464173000843,
          -0.1756822920863708,
          -0.0435222261297728,
          -0.1501160069214156,
          -0.1846201729327417,
          -0.1796130246555489,
          -0.1580076696847223,
          -0.1765854303790023,
          -0.1493457272395688,
          -0.1807579335051698,
          -0.1801294639866038,
          -0.1901077747751752
         ],
         "z": [
          -0.0972205293475309,
          -0.0964603175918051,
          -0.0800047003947378,
          -0.0938005029648381,
          -0.0487320339687373,
          0.0937668025759223,
          -0.0859687033506318,
          -0.0896862914789531,
          -0.0846863292171255,
          -0.0824211415209832,
          -0.0882798560469852,
          -0.0884473808187943,
          -0.0596137307178426,
          -0.0557542524906452,
          -0.0969481828595696
         ]
        },
        {
         "hovertemplate": "Counterion=[Li+]<br>Source=Qin<br>Component 1=%{x}<br>Component 2=%{y}<br>Component 3=%{z}<extra></extra>",
         "legendgroup": "[Li+], Qin",
         "marker": {
          "color": "#19d3f3",
          "symbol": "circle"
         },
         "mode": "markers",
         "name": "[Li+], Qin",
         "scene": "scene",
         "showlegend": true,
         "type": "scatter3d",
         "x": [
          0.4085351492003094,
          0.4087841091347071,
          0.4125541588530136,
          0.4121162946873052,
          0.4121278179561912
         ],
         "y": [
          2.327779477315393,
          2.332138240936941,
          2.3991490643834834,
          2.391691656187908,
          2.3918668519734285
         ],
         "z": [
          -0.538985618155146,
          -0.5411236346579349,
          -0.5748082642476445,
          -0.5713161679668248,
          -0.5713810157666611
         ]
        },
        {
         "hovertemplate": "Counterion=[NH4+]<br>Source=Qin<br>Component 1=%{x}<br>Component 2=%{y}<br>Component 3=%{z}<extra></extra>",
         "legendgroup": "[NH4+], Qin",
         "marker": {
          "color": "#FF6692",
          "symbol": "circle"
         },
         "mode": "markers",
         "name": "[NH4+], Qin",
         "scene": "scene",
         "showlegend": true,
         "type": "scatter3d",
         "x": [
          0.3608167935598599
         ],
         "y": [
          1.4381376129176366
         ],
         "z": [
          -0.0524947441642885
         ]
        },
        {
         "hovertemplate": "Counterion=[K+]<br>Source=Qin<br>Component 1=%{x}<br>Component 2=%{y}<br>Component 3=%{z}<extra></extra>",
         "legendgroup": "[K+], Qin",
         "marker": {
          "color": "#B6E880",
          "symbol": "circle"
         },
         "mode": "markers",
         "name": "[K+], Qin",
         "scene": "scene",
         "showlegend": true,
         "type": "scatter3d",
         "x": [
          0.6734850664616595,
          0.579440790248064
         ],
         "y": [
          0.1440152555991575,
          0.1993390153703201
         ],
         "z": [
          0.0494402028412592,
          0.0687046529516554
         ]
        },
        {
         "hovertemplate": "Counterion=C[N+](C)(C)C<br>Source=Qin<br>Component 1=%{x}<br>Component 2=%{y}<br>Component 3=%{z}<extra></extra>",
         "legendgroup": "C[N+](C)(C)C, Qin",
         "marker": {
          "color": "#FF97FF",
          "symbol": "circle"
         },
         "mode": "markers",
         "name": "C[N+](C)(C)C, Qin",
         "scene": "scene",
         "showlegend": true,
         "type": "scatter3d",
         "x": [
          0.3732497076992633
         ],
         "y": [
          1.6113148136623705
         ],
         "z": [
          -0.069639050082322
         ]
        },
        {
         "hovertemplate": "Counterion=C[N+](C)(C)C<br>Source=NIST<br>Component 1=%{x}<br>Component 2=%{y}<br>Component 3=%{z}<extra></extra>",
         "legendgroup": "C[N+](C)(C)C, NIST",
         "marker": {
          "color": "#FF97FF",
          "symbol": "diamond"
         },
         "mode": "markers",
         "name": "C[N+](C)(C)C, NIST",
         "scene": "scene",
         "showlegend": true,
         "type": "scatter3d",
         "x": [
          0.3732496959501231
         ],
         "y": [
          1.6113145011529997
         ],
         "z": [
          -0.0696406240333651
         ]
        },
        {
         "hovertemplate": "Counterion=CCC[N+](CCC)(CCC)CCC<br>Source=Qin<br>Component 1=%{x}<br>Component 2=%{y}<br>Component 3=%{z}<extra></extra>",
         "legendgroup": "CCC[N+](CCC)(CCC)CCC, Qin",
         "marker": {
          "color": "#FECB52",
          "symbol": "circle"
         },
         "mode": "markers",
         "name": "CCC[N+](CCC)(CCC)CCC, Qin",
         "scene": "scene",
         "showlegend": true,
         "type": "scatter3d",
         "x": [
          -0.2333880272721972
         ],
         "y": [
          0.0340779310993377
         ],
         "z": [
          0.4684737180907766
         ]
        },
        {
         "hovertemplate": "Counterion=CCCCCCCCCC[N+](C)(C)C<br>Source=NIST<br>Component 1=%{x}<br>Component 2=%{y}<br>Component 3=%{z}<extra></extra>",
         "legendgroup": "CCCCCCCCCC[N+](C)(C)C, NIST",
         "marker": {
          "color": "#636efa",
          "symbol": "diamond"
         },
         "mode": "markers",
         "name": "CCCCCCCCCC[N+](C)(C)C, NIST",
         "scene": "scene",
         "showlegend": true,
         "type": "scatter3d",
         "x": [
          -0.0927733144845004,
          -0.3073298116743235
         ],
         "y": [
          -0.0391414148550302,
          -0.0702999799603224
         ],
         "z": [
          0.2167505069122898,
          0.1412045087812286
         ]
        },
        {
         "hovertemplate": "Counterion=CCCCCCCCCCCCOC(=O)CC(=O)[O-].[K+].[K+]<br>Source=NIST<br>Component 1=%{x}<br>Component 2=%{y}<br>Component 3=%{z}<extra></extra>",
         "legendgroup": "CCCCCCCCCCCCOC(=O)CC(=O)[O-].[K+].[K+], NIST",
         "marker": {
          "color": "#EF553B",
          "symbol": "diamond"
         },
         "mode": "markers",
         "name": "CCCCCCCCCCCCOC(=O)CC(=O)[O-].[K+].[K+], NIST",
         "scene": "scene",
         "showlegend": true,
         "type": "scatter3d",
         "x": [
          0.6918113886506171
         ],
         "y": [
          0.7681384179769812
         ],
         "z": [
          0.0592115665338964
         ]
        },
        {
         "hovertemplate": "Counterion=CCCCCCCCOC(=O)CC(=O)[O-].[K+].[K+]<br>Source=NIST<br>Component 1=%{x}<br>Component 2=%{y}<br>Component 3=%{z}<extra></extra>",
         "legendgroup": "CCCCCCCCOC(=O)CC(=O)[O-].[K+].[K+], NIST",
         "marker": {
          "color": "#00cc96",
          "symbol": "diamond"
         },
         "mode": "markers",
         "name": "CCCCCCCCOC(=O)CC(=O)[O-].[K+].[K+], NIST",
         "scene": "scene",
         "showlegend": true,
         "type": "scatter3d",
         "x": [
          0.6919945554449042
         ],
         "y": [
          0.758546528597075
         ],
         "z": [
          0.0628869809873185
         ]
        },
        {
         "hovertemplate": "Counterion=CCCCCCCCCCCCCCOC(=O)CC(=O)[O-].[K+].[K+]<br>Source=NIST<br>Component 1=%{x}<br>Component 2=%{y}<br>Component 3=%{z}<extra></extra>",
         "legendgroup": "CCCCCCCCCCCCCCOC(=O)CC(=O)[O-].[K+].[K+], NIST",
         "marker": {
          "color": "#ab63fa",
          "symbol": "diamond"
         },
         "mode": "markers",
         "name": "CCCCCCCCCCCCCCOC(=O)CC(=O)[O-].[K+].[K+], NIST",
         "scene": "scene",
         "showlegend": true,
         "type": "scatter3d",
         "x": [
          0.687777987604722
         ],
         "y": [
          0.7688446018485411
         ],
         "z": [
          0.056544353005327
         ]
        },
        {
         "hovertemplate": "Counterion=CCCCCC[N+](C)(C)C.CCCCCC[N+](C)(C)C.O=S(=O)([O-])[O-]<br>Source=NIST<br>Component 1=%{x}<br>Component 2=%{y}<br>Component 3=%{z}<extra></extra>",
         "legendgroup": "CCCCCC[N+](C)(C)C.CCCCCC[N+](C)(C)C.O=S(=O)([O-])[O-], NIST",
         "marker": {
          "color": "#FFA15A",
          "symbol": "diamond"
         },
         "mode": "markers",
         "name": "CCCCCC[N+](C)(C)C.CCCCCC[N+](C)(C)C.O=S(=O)([O-])[O-], NIST",
         "scene": "scene",
         "showlegend": true,
         "type": "scatter3d",
         "x": [
          0.2526348163387932
         ],
         "y": [
          0.1235065152530718
         ],
         "z": [
          0.3542602237554238
         ]
        },
        {
         "hovertemplate": "Counterion=O=[N+]([O-])[O-]<br>Source=NIST<br>Component 1=%{x}<br>Component 2=%{y}<br>Component 3=%{z}<extra></extra>",
         "legendgroup": "O=[N+]([O-])[O-], NIST",
         "marker": {
          "color": "#19d3f3",
          "symbol": "diamond"
         },
         "mode": "markers",
         "name": "O=[N+]([O-])[O-], NIST",
         "scene": "scene",
         "showlegend": true,
         "type": "scatter3d",
         "x": [
          -0.4911485173543321
         ],
         "y": [
          -0.0819292844290732
         ],
         "z": [
          -0.0496720983606737
         ]
        },
        {
         "hovertemplate": "Counterion=[O-][Br+2]([O-])[O-]<br>Source=NIST<br>Component 1=%{x}<br>Component 2=%{y}<br>Component 3=%{z}<extra></extra>",
         "legendgroup": "[O-][Br+2]([O-])[O-], NIST",
         "marker": {
          "color": "#FF6692",
          "symbol": "diamond"
         },
         "mode": "markers",
         "name": "[O-][Br+2]([O-])[O-], NIST",
         "scene": "scene",
         "showlegend": true,
         "type": "scatter3d",
         "x": [
          -0.5648467685725923,
          -0.5454260814053024
         ],
         "y": [
          -0.06788042280016,
          -0.0582946789972929
         ],
         "z": [
          -0.0896371882070322,
          -0.0605874105410109
         ]
        },
        {
         "hovertemplate": "Counterion=O=C[O-]<br>Source=NIST<br>Component 1=%{x}<br>Component 2=%{y}<br>Component 3=%{z}<extra></extra>",
         "legendgroup": "O=C[O-], NIST",
         "marker": {
          "color": "#B6E880",
          "symbol": "diamond"
         },
         "mode": "markers",
         "name": "O=C[O-], NIST",
         "scene": "scene",
         "showlegend": true,
         "type": "scatter3d",
         "x": [
          -0.2172250084236277
         ],
         "y": [
          -0.0658402985335999
         ],
         "z": [
          0.1026208243379469
         ]
        },
        {
         "hovertemplate": "Counterion=CCCCCCCC[N+](C)(C)C.CCCCCCCC[N+](C)(C)C.O=S(=O)([O-])[O-]<br>Source=NIST<br>Component 1=%{x}<br>Component 2=%{y}<br>Component 3=%{z}<extra></extra>",
         "legendgroup": "CCCCCCCC[N+](C)(C)C.CCCCCCCC[N+](C)(C)C.O=S(=O)([O-])[O-], NIST",
         "marker": {
          "color": "#FF97FF",
          "symbol": "diamond"
         },
         "mode": "markers",
         "name": "CCCCCCCC[N+](C)(C)C.CCCCCCCC[N+](C)(C)C.O=S(=O)([O-])[O-], NIST",
         "scene": "scene",
         "showlegend": true,
         "type": "scatter3d",
         "x": [
          0.2573999823150608
         ],
         "y": [
          0.1199530209676019
         ],
         "z": [
          0.3317190631188978
         ]
        },
        {
         "hovertemplate": "Counterion=CCCCCCCC[N+](C)(C)C<br>Source=NIST<br>Component 1=%{x}<br>Component 2=%{y}<br>Component 3=%{z}<extra></extra>",
         "legendgroup": "CCCCCCCC[N+](C)(C)C, NIST",
         "marker": {
          "color": "#FECB52",
          "symbol": "diamond"
         },
         "mode": "markers",
         "name": "CCCCCCCC[N+](C)(C)C, NIST",
         "scene": "scene",
         "showlegend": true,
         "type": "scatter3d",
         "x": [
          -0.3073297620541779,
          -0.1011966112763107
         ],
         "y": [
          -0.0702999745546437,
          -0.0410877659103885
         ],
         "z": [
          0.141204528257164,
          0.230993837855349
         ]
        }
       ],
       "layout": {
        "legend": {
         "title": {
          "text": "Counterion, Source"
         },
         "tracegroupgap": 0
        },
        "margin": {
         "t": 60
        },
        "scene": {
         "aspectmode": "cube",
         "domain": {
          "x": [
           0,
           1
          ],
          "y": [
           0,
           1
          ]
         },
         "xaxis": {
          "title": {
           "text": "Component 1"
          }
         },
         "yaxis": {
          "title": {
           "text": "Component 2"
          }
         },
         "zaxis": {
          "title": {
           "text": "Component 3"
          }
         }
        },
        "template": {
         "data": {
          "bar": [
           {
            "error_x": {
             "color": "#2a3f5f"
            },
            "error_y": {
             "color": "#2a3f5f"
            },
            "marker": {
             "line": {
              "color": "#E5ECF6",
              "width": 0.5
             },
             "pattern": {
              "fillmode": "overlay",
              "size": 10,
              "solidity": 0.2
             }
            },
            "type": "bar"
           }
          ],
          "barpolar": [
           {
            "marker": {
             "line": {
              "color": "#E5ECF6",
              "width": 0.5
             },
             "pattern": {
              "fillmode": "overlay",
              "size": 10,
              "solidity": 0.2
             }
            },
            "type": "barpolar"
           }
          ],
          "carpet": [
           {
            "aaxis": {
             "endlinecolor": "#2a3f5f",
             "gridcolor": "white",
             "linecolor": "white",
             "minorgridcolor": "white",
             "startlinecolor": "#2a3f5f"
            },
            "baxis": {
             "endlinecolor": "#2a3f5f",
             "gridcolor": "white",
             "linecolor": "white",
             "minorgridcolor": "white",
             "startlinecolor": "#2a3f5f"
            },
            "type": "carpet"
           }
          ],
          "choropleth": [
           {
            "colorbar": {
             "outlinewidth": 0,
             "ticks": ""
            },
            "type": "choropleth"
           }
          ],
          "contour": [
           {
            "colorbar": {
             "outlinewidth": 0,
             "ticks": ""
            },
            "colorscale": [
             [
              0,
              "#0d0887"
             ],
             [
              0.1111111111111111,
              "#46039f"
             ],
             [
              0.2222222222222222,
              "#7201a8"
             ],
             [
              0.3333333333333333,
              "#9c179e"
             ],
             [
              0.4444444444444444,
              "#bd3786"
             ],
             [
              0.5555555555555556,
              "#d8576b"
             ],
             [
              0.6666666666666666,
              "#ed7953"
             ],
             [
              0.7777777777777778,
              "#fb9f3a"
             ],
             [
              0.8888888888888888,
              "#fdca26"
             ],
             [
              1,
              "#f0f921"
             ]
            ],
            "type": "contour"
           }
          ],
          "contourcarpet": [
           {
            "colorbar": {
             "outlinewidth": 0,
             "ticks": ""
            },
            "type": "contourcarpet"
           }
          ],
          "heatmap": [
           {
            "colorbar": {
             "outlinewidth": 0,
             "ticks": ""
            },
            "colorscale": [
             [
              0,
              "#0d0887"
             ],
             [
              0.1111111111111111,
              "#46039f"
             ],
             [
              0.2222222222222222,
              "#7201a8"
             ],
             [
              0.3333333333333333,
              "#9c179e"
             ],
             [
              0.4444444444444444,
              "#bd3786"
             ],
             [
              0.5555555555555556,
              "#d8576b"
             ],
             [
              0.6666666666666666,
              "#ed7953"
             ],
             [
              0.7777777777777778,
              "#fb9f3a"
             ],
             [
              0.8888888888888888,
              "#fdca26"
             ],
             [
              1,
              "#f0f921"
             ]
            ],
            "type": "heatmap"
           }
          ],
          "heatmapgl": [
           {
            "colorbar": {
             "outlinewidth": 0,
             "ticks": ""
            },
            "colorscale": [
             [
              0,
              "#0d0887"
             ],
             [
              0.1111111111111111,
              "#46039f"
             ],
             [
              0.2222222222222222,
              "#7201a8"
             ],
             [
              0.3333333333333333,
              "#9c179e"
             ],
             [
              0.4444444444444444,
              "#bd3786"
             ],
             [
              0.5555555555555556,
              "#d8576b"
             ],
             [
              0.6666666666666666,
              "#ed7953"
             ],
             [
              0.7777777777777778,
              "#fb9f3a"
             ],
             [
              0.8888888888888888,
              "#fdca26"
             ],
             [
              1,
              "#f0f921"
             ]
            ],
            "type": "heatmapgl"
           }
          ],
          "histogram": [
           {
            "marker": {
             "pattern": {
              "fillmode": "overlay",
              "size": 10,
              "solidity": 0.2
             }
            },
            "type": "histogram"
           }
          ],
          "histogram2d": [
           {
            "colorbar": {
             "outlinewidth": 0,
             "ticks": ""
            },
            "colorscale": [
             [
              0,
              "#0d0887"
             ],
             [
              0.1111111111111111,
              "#46039f"
             ],
             [
              0.2222222222222222,
              "#7201a8"
             ],
             [
              0.3333333333333333,
              "#9c179e"
             ],
             [
              0.4444444444444444,
              "#bd3786"
             ],
             [
              0.5555555555555556,
              "#d8576b"
             ],
             [
              0.6666666666666666,
              "#ed7953"
             ],
             [
              0.7777777777777778,
              "#fb9f3a"
             ],
             [
              0.8888888888888888,
              "#fdca26"
             ],
             [
              1,
              "#f0f921"
             ]
            ],
            "type": "histogram2d"
           }
          ],
          "histogram2dcontour": [
           {
            "colorbar": {
             "outlinewidth": 0,
             "ticks": ""
            },
            "colorscale": [
             [
              0,
              "#0d0887"
             ],
             [
              0.1111111111111111,
              "#46039f"
             ],
             [
              0.2222222222222222,
              "#7201a8"
             ],
             [
              0.3333333333333333,
              "#9c179e"
             ],
             [
              0.4444444444444444,
              "#bd3786"
             ],
             [
              0.5555555555555556,
              "#d8576b"
             ],
             [
              0.6666666666666666,
              "#ed7953"
             ],
             [
              0.7777777777777778,
              "#fb9f3a"
             ],
             [
              0.8888888888888888,
              "#fdca26"
             ],
             [
              1,
              "#f0f921"
             ]
            ],
            "type": "histogram2dcontour"
           }
          ],
          "mesh3d": [
           {
            "colorbar": {
             "outlinewidth": 0,
             "ticks": ""
            },
            "type": "mesh3d"
           }
          ],
          "parcoords": [
           {
            "line": {
             "colorbar": {
              "outlinewidth": 0,
              "ticks": ""
             }
            },
            "type": "parcoords"
           }
          ],
          "pie": [
           {
            "automargin": true,
            "type": "pie"
           }
          ],
          "scatter": [
           {
            "fillpattern": {
             "fillmode": "overlay",
             "size": 10,
             "solidity": 0.2
            },
            "type": "scatter"
           }
          ],
          "scatter3d": [
           {
            "line": {
             "colorbar": {
              "outlinewidth": 0,
              "ticks": ""
             }
            },
            "marker": {
             "colorbar": {
              "outlinewidth": 0,
              "ticks": ""
             }
            },
            "type": "scatter3d"
           }
          ],
          "scattercarpet": [
           {
            "marker": {
             "colorbar": {
              "outlinewidth": 0,
              "ticks": ""
             }
            },
            "type": "scattercarpet"
           }
          ],
          "scattergeo": [
           {
            "marker": {
             "colorbar": {
              "outlinewidth": 0,
              "ticks": ""
             }
            },
            "type": "scattergeo"
           }
          ],
          "scattergl": [
           {
            "marker": {
             "colorbar": {
              "outlinewidth": 0,
              "ticks": ""
             }
            },
            "type": "scattergl"
           }
          ],
          "scattermapbox": [
           {
            "marker": {
             "colorbar": {
              "outlinewidth": 0,
              "ticks": ""
             }
            },
            "type": "scattermapbox"
           }
          ],
          "scatterpolar": [
           {
            "marker": {
             "colorbar": {
              "outlinewidth": 0,
              "ticks": ""
             }
            },
            "type": "scatterpolar"
           }
          ],
          "scatterpolargl": [
           {
            "marker": {
             "colorbar": {
              "outlinewidth": 0,
              "ticks": ""
             }
            },
            "type": "scatterpolargl"
           }
          ],
          "scatterternary": [
           {
            "marker": {
             "colorbar": {
              "outlinewidth": 0,
              "ticks": ""
             }
            },
            "type": "scatterternary"
           }
          ],
          "surface": [
           {
            "colorbar": {
             "outlinewidth": 0,
             "ticks": ""
            },
            "colorscale": [
             [
              0,
              "#0d0887"
             ],
             [
              0.1111111111111111,
              "#46039f"
             ],
             [
              0.2222222222222222,
              "#7201a8"
             ],
             [
              0.3333333333333333,
              "#9c179e"
             ],
             [
              0.4444444444444444,
              "#bd3786"
             ],
             [
              0.5555555555555556,
              "#d8576b"
             ],
             [
              0.6666666666666666,
              "#ed7953"
             ],
             [
              0.7777777777777778,
              "#fb9f3a"
             ],
             [
              0.8888888888888888,
              "#fdca26"
             ],
             [
              1,
              "#f0f921"
             ]
            ],
            "type": "surface"
           }
          ],
          "table": [
           {
            "cells": {
             "fill": {
              "color": "#EBF0F8"
             },
             "line": {
              "color": "white"
             }
            },
            "header": {
             "fill": {
              "color": "#C8D4E3"
             },
             "line": {
              "color": "white"
             }
            },
            "type": "table"
           }
          ]
         },
         "layout": {
          "annotationdefaults": {
           "arrowcolor": "#2a3f5f",
           "arrowhead": 0,
           "arrowwidth": 1
          },
          "autotypenumbers": "strict",
          "coloraxis": {
           "colorbar": {
            "outlinewidth": 0,
            "ticks": ""
           }
          },
          "colorscale": {
           "diverging": [
            [
             0,
             "#8e0152"
            ],
            [
             0.1,
             "#c51b7d"
            ],
            [
             0.2,
             "#de77ae"
            ],
            [
             0.3,
             "#f1b6da"
            ],
            [
             0.4,
             "#fde0ef"
            ],
            [
             0.5,
             "#f7f7f7"
            ],
            [
             0.6,
             "#e6f5d0"
            ],
            [
             0.7,
             "#b8e186"
            ],
            [
             0.8,
             "#7fbc41"
            ],
            [
             0.9,
             "#4d9221"
            ],
            [
             1,
             "#276419"
            ]
           ],
           "sequential": [
            [
             0,
             "#0d0887"
            ],
            [
             0.1111111111111111,
             "#46039f"
            ],
            [
             0.2222222222222222,
             "#7201a8"
            ],
            [
             0.3333333333333333,
             "#9c179e"
            ],
            [
             0.4444444444444444,
             "#bd3786"
            ],
            [
             0.5555555555555556,
             "#d8576b"
            ],
            [
             0.6666666666666666,
             "#ed7953"
            ],
            [
             0.7777777777777778,
             "#fb9f3a"
            ],
            [
             0.8888888888888888,
             "#fdca26"
            ],
            [
             1,
             "#f0f921"
            ]
           ],
           "sequentialminus": [
            [
             0,
             "#0d0887"
            ],
            [
             0.1111111111111111,
             "#46039f"
            ],
            [
             0.2222222222222222,
             "#7201a8"
            ],
            [
             0.3333333333333333,
             "#9c179e"
            ],
            [
             0.4444444444444444,
             "#bd3786"
            ],
            [
             0.5555555555555556,
             "#d8576b"
            ],
            [
             0.6666666666666666,
             "#ed7953"
            ],
            [
             0.7777777777777778,
             "#fb9f3a"
            ],
            [
             0.8888888888888888,
             "#fdca26"
            ],
            [
             1,
             "#f0f921"
            ]
           ]
          },
          "colorway": [
           "#636efa",
           "#EF553B",
           "#00cc96",
           "#ab63fa",
           "#FFA15A",
           "#19d3f3",
           "#FF6692",
           "#B6E880",
           "#FF97FF",
           "#FECB52"
          ],
          "font": {
           "color": "#2a3f5f"
          },
          "geo": {
           "bgcolor": "white",
           "lakecolor": "white",
           "landcolor": "#E5ECF6",
           "showlakes": true,
           "showland": true,
           "subunitcolor": "white"
          },
          "hoverlabel": {
           "align": "left"
          },
          "hovermode": "closest",
          "mapbox": {
           "style": "light"
          },
          "paper_bgcolor": "white",
          "plot_bgcolor": "#E5ECF6",
          "polar": {
           "angularaxis": {
            "gridcolor": "white",
            "linecolor": "white",
            "ticks": ""
           },
           "bgcolor": "#E5ECF6",
           "radialaxis": {
            "gridcolor": "white",
            "linecolor": "white",
            "ticks": ""
           }
          },
          "scene": {
           "xaxis": {
            "backgroundcolor": "#E5ECF6",
            "gridcolor": "white",
            "gridwidth": 2,
            "linecolor": "white",
            "showbackground": true,
            "ticks": "",
            "zerolinecolor": "white"
           },
           "yaxis": {
            "backgroundcolor": "#E5ECF6",
            "gridcolor": "white",
            "gridwidth": 2,
            "linecolor": "white",
            "showbackground": true,
            "ticks": "",
            "zerolinecolor": "white"
           },
           "zaxis": {
            "backgroundcolor": "#E5ECF6",
            "gridcolor": "white",
            "gridwidth": 2,
            "linecolor": "white",
            "showbackground": true,
            "ticks": "",
            "zerolinecolor": "white"
           }
          },
          "shapedefaults": {
           "line": {
            "color": "#2a3f5f"
           }
          },
          "ternary": {
           "aaxis": {
            "gridcolor": "white",
            "linecolor": "white",
            "ticks": ""
           },
           "baxis": {
            "gridcolor": "white",
            "linecolor": "white",
            "ticks": ""
           },
           "bgcolor": "#E5ECF6",
           "caxis": {
            "gridcolor": "white",
            "linecolor": "white",
            "ticks": ""
           }
          },
          "title": {
           "x": 0.05
          },
          "xaxis": {
           "automargin": true,
           "gridcolor": "white",
           "linecolor": "white",
           "ticks": "",
           "title": {
            "standoff": 15
           },
           "zerolinecolor": "white",
           "zerolinewidth": 2
          },
          "yaxis": {
           "automargin": true,
           "gridcolor": "white",
           "linecolor": "white",
           "ticks": "",
           "title": {
            "standoff": 15
           },
           "zerolinecolor": "white",
           "zerolinewidth": 2
          }
         }
        }
       }
      }
     },
     "metadata": {},
     "output_type": "display_data"
    }
   ],
   "source": [
    "fig = px.scatter_3d(kernel_3_df, x=\"Component 1\", y=\"Component 2\", z=\"Component 3\", color=\"Counterion\", symbol=\"Source\")\n",
    "fig.update_layout(scene_aspectmode=\"cube\")"
   ]
  }
 ],
 "metadata": {
  "kernelspec": {
   "display_name": "camcann",
   "language": "python",
   "name": "python3"
  },
  "language_info": {
   "codemirror_mode": {
    "name": "ipython",
    "version": 3
   },
   "file_extension": ".py",
   "mimetype": "text/x-python",
   "name": "python",
   "nbconvert_exporter": "python",
   "pygments_lexer": "ipython3",
   "version": "3.10.8"
  },
  "orig_nbformat": 4
 },
 "nbformat": 4,
 "nbformat_minor": 2
}
