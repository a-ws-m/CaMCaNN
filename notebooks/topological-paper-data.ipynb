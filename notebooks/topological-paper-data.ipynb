{
 "cells": [
  {
   "cell_type": "markdown",
   "metadata": {},
   "source": [
    "# Topological paper analysis\n",
    "\n",
    "Read the calculated values from <https://link.springer.com/article/10.1007/s10822-008-9204-9> and calculate the RMSE."
   ]
  },
  {
   "cell_type": "code",
   "execution_count": 1,
   "metadata": {},
   "outputs": [],
   "source": [
    "import numpy as np\n",
    "import pandas as pd"
   ]
  },
  {
   "cell_type": "code",
   "execution_count": 2,
   "metadata": {},
   "outputs": [],
   "source": [
    "df = pd.read_html(\"topological-approach-paper-preds.html\", header=0)[0]"
   ]
  },
  {
   "cell_type": "code",
   "execution_count": 3,
   "metadata": {},
   "outputs": [
    {
     "data": {
      "text/html": [
       "<div>\n",
       "<style scoped>\n",
       "    .dataframe tbody tr th:only-of-type {\n",
       "        vertical-align: middle;\n",
       "    }\n",
       "\n",
       "    .dataframe tbody tr th {\n",
       "        vertical-align: top;\n",
       "    }\n",
       "\n",
       "    .dataframe thead th {\n",
       "        text-align: right;\n",
       "    }\n",
       "</style>\n",
       "<table border=\"1\" class=\"dataframe\">\n",
       "  <thead>\n",
       "    <tr style=\"text-align: right;\">\n",
       "      <th></th>\n",
       "      <th>Structure ID</th>\n",
       "      <th>Chemical namea</th>\n",
       "      <th>Observed log10(CMC)</th>\n",
       "      <th>Modeling set assignment</th>\n",
       "      <th>Computed log10(CMC) ADAPT model</th>\n",
       "      <th>Computed log10(CMC) Molconn model</th>\n",
       "      <th>Source (Ref. #)</th>\n",
       "    </tr>\n",
       "  </thead>\n",
       "  <tbody>\n",
       "    <tr>\n",
       "      <th>0</th>\n",
       "      <td>Surf_022</td>\n",
       "      <td>Decane-1-sulfonic acid</td>\n",
       "      <td>-1.40</td>\n",
       "      <td>Training</td>\n",
       "      <td>-1.46</td>\n",
       "      <td>-1.61</td>\n",
       "      <td>[8]</td>\n",
       "    </tr>\n",
       "    <tr>\n",
       "      <th>1</th>\n",
       "      <td>Surf_023</td>\n",
       "      <td>Dodecane-1-sulfonic acid</td>\n",
       "      <td>-1.97</td>\n",
       "      <td>Training</td>\n",
       "      <td>-2.00</td>\n",
       "      <td>-2.19</td>\n",
       "      <td>[8, 9]</td>\n",
       "    </tr>\n",
       "    <tr>\n",
       "      <th>2</th>\n",
       "      <td>Surf_024</td>\n",
       "      <td>Hexadecyl hydrogen sulfate</td>\n",
       "      <td>-3.26</td>\n",
       "      <td>Training</td>\n",
       "      <td>-3.20</td>\n",
       "      <td>-3.18</td>\n",
       "      <td>[8, 9, 10]</td>\n",
       "    </tr>\n",
       "    <tr>\n",
       "      <th>3</th>\n",
       "      <td>Surf_025</td>\n",
       "      <td>Hexadecan-4-yl hydrogen sulfate</td>\n",
       "      <td>-2.77</td>\n",
       "      <td>Training</td>\n",
       "      <td>-2.96</td>\n",
       "      <td>-2.90</td>\n",
       "      <td>[8, 9, 10]</td>\n",
       "    </tr>\n",
       "    <tr>\n",
       "      <th>4</th>\n",
       "      <td>Surf_026</td>\n",
       "      <td>Hexadecan-6-yl hydrogen sulfate</td>\n",
       "      <td>-2.63</td>\n",
       "      <td>Training</td>\n",
       "      <td>-2.81</td>\n",
       "      <td>-2.78</td>\n",
       "      <td>[8, 9, 10]</td>\n",
       "    </tr>\n",
       "  </tbody>\n",
       "</table>\n",
       "</div>"
      ],
      "text/plain": [
       "  Structure ID                   Chemical namea  Observed log10(CMC)  \\\n",
       "0     Surf_022           Decane-1-sulfonic acid                -1.40   \n",
       "1     Surf_023         Dodecane-1-sulfonic acid                -1.97   \n",
       "2     Surf_024       Hexadecyl hydrogen sulfate                -3.26   \n",
       "3     Surf_025  Hexadecan-4-yl hydrogen sulfate                -2.77   \n",
       "4     Surf_026  Hexadecan-6-yl hydrogen sulfate                -2.63   \n",
       "\n",
       "  Modeling set assignment  Computed log10(CMC) ADAPT model  \\\n",
       "0                Training                            -1.46   \n",
       "1                Training                            -2.00   \n",
       "2                Training                            -3.20   \n",
       "3                Training                            -2.96   \n",
       "4                Training                            -2.81   \n",
       "\n",
       "   Computed log10(CMC) Molconn model Source (Ref. #)  \n",
       "0                              -1.61             [8]  \n",
       "1                              -2.19          [8, 9]  \n",
       "2                              -3.18      [8, 9, 10]  \n",
       "3                              -2.90      [8, 9, 10]  \n",
       "4                              -2.78      [8, 9, 10]  "
      ]
     },
     "execution_count": 3,
     "metadata": {},
     "output_type": "execute_result"
    }
   ],
   "source": [
    "df.head()"
   ]
  },
  {
   "cell_type": "code",
   "execution_count": 4,
   "metadata": {},
   "outputs": [
    {
     "data": {
      "text/html": [
       "<div>\n",
       "<style scoped>\n",
       "    .dataframe tbody tr th:only-of-type {\n",
       "        vertical-align: middle;\n",
       "    }\n",
       "\n",
       "    .dataframe tbody tr th {\n",
       "        vertical-align: top;\n",
       "    }\n",
       "\n",
       "    .dataframe thead th {\n",
       "        text-align: right;\n",
       "    }\n",
       "</style>\n",
       "<table border=\"1\" class=\"dataframe\">\n",
       "  <thead>\n",
       "    <tr style=\"text-align: right;\">\n",
       "      <th></th>\n",
       "      <th>Structure ID</th>\n",
       "      <th>Chemical namea</th>\n",
       "      <th>Observed log10(CMC)</th>\n",
       "      <th>Modeling set assignment</th>\n",
       "      <th>Computed log10(CMC) ADAPT model</th>\n",
       "      <th>Computed log10(CMC) Molconn model</th>\n",
       "      <th>Source (Ref. #)</th>\n",
       "    </tr>\n",
       "  </thead>\n",
       "  <tbody>\n",
       "    <tr>\n",
       "      <th>170</th>\n",
       "      <td>Surf_296</td>\n",
       "      <td>(S)-2-(3-Benzyl-4-(octyloxy)-4-oxobutanoyl)ben...</td>\n",
       "      <td>-2.82</td>\n",
       "      <td>Training</td>\n",
       "      <td>-2.76</td>\n",
       "      <td>-2.91</td>\n",
       "      <td>[19]</td>\n",
       "    </tr>\n",
       "    <tr>\n",
       "      <th>171</th>\n",
       "      <td>Surf_297</td>\n",
       "      <td>(S)-2-(3-Benzyl-4-(decyloxy)-4-oxobutanoyl)ben...</td>\n",
       "      <td>-3.45</td>\n",
       "      <td>Training</td>\n",
       "      <td>-3.48</td>\n",
       "      <td>-3.48</td>\n",
       "      <td>[19]</td>\n",
       "    </tr>\n",
       "    <tr>\n",
       "      <th>172</th>\n",
       "      <td>Surf_298</td>\n",
       "      <td>(S)-2-(3-Benzyl-4-(dodecyloxy)-4-oxobutanoyl)b...</td>\n",
       "      <td>-4.16</td>\n",
       "      <td>Training</td>\n",
       "      <td>-4.19</td>\n",
       "      <td>-4.06</td>\n",
       "      <td>[19]</td>\n",
       "    </tr>\n",
       "    <tr>\n",
       "      <th>173</th>\n",
       "      <td>Surf_299</td>\n",
       "      <td>(S)-2-(3-Benzyl-4-oxo-4-(tetradecyloxy)butanoy...</td>\n",
       "      <td>-4.76</td>\n",
       "      <td>Training</td>\n",
       "      <td>-4.90</td>\n",
       "      <td>-4.64</td>\n",
       "      <td>[19]</td>\n",
       "    </tr>\n",
       "    <tr>\n",
       "      <th>174</th>\n",
       "      <td>Surf_300</td>\n",
       "      <td>(S)-2-(4-(Dodecyloxy)-3-methyl-4-oxobutanoyl)b...</td>\n",
       "      <td>-3.35</td>\n",
       "      <td>Training</td>\n",
       "      <td>-3.43</td>\n",
       "      <td>-3.33</td>\n",
       "      <td>[19]</td>\n",
       "    </tr>\n",
       "  </tbody>\n",
       "</table>\n",
       "</div>"
      ],
      "text/plain": [
       "    Structure ID                                     Chemical namea  \\\n",
       "170     Surf_296  (S)-2-(3-Benzyl-4-(octyloxy)-4-oxobutanoyl)ben...   \n",
       "171     Surf_297  (S)-2-(3-Benzyl-4-(decyloxy)-4-oxobutanoyl)ben...   \n",
       "172     Surf_298  (S)-2-(3-Benzyl-4-(dodecyloxy)-4-oxobutanoyl)b...   \n",
       "173     Surf_299  (S)-2-(3-Benzyl-4-oxo-4-(tetradecyloxy)butanoy...   \n",
       "174     Surf_300  (S)-2-(4-(Dodecyloxy)-3-methyl-4-oxobutanoyl)b...   \n",
       "\n",
       "     Observed log10(CMC) Modeling set assignment  \\\n",
       "170                -2.82                Training   \n",
       "171                -3.45                Training   \n",
       "172                -4.16                Training   \n",
       "173                -4.76                Training   \n",
       "174                -3.35                Training   \n",
       "\n",
       "     Computed log10(CMC) ADAPT model  Computed log10(CMC) Molconn model  \\\n",
       "170                            -2.76                              -2.91   \n",
       "171                            -3.48                              -3.48   \n",
       "172                            -4.19                              -4.06   \n",
       "173                            -4.90                              -4.64   \n",
       "174                            -3.43                              -3.33   \n",
       "\n",
       "    Source (Ref. #)  \n",
       "170            [19]  \n",
       "171            [19]  \n",
       "172            [19]  \n",
       "173            [19]  \n",
       "174            [19]  "
      ]
     },
     "execution_count": 4,
     "metadata": {},
     "output_type": "execute_result"
    }
   ],
   "source": [
    "df.tail()"
   ]
  },
  {
   "cell_type": "code",
   "execution_count": 5,
   "metadata": {},
   "outputs": [
    {
     "data": {
      "text/plain": [
       "Training      149\n",
       "Ext. Pred.     22\n",
       "Outlierb        2\n",
       "Outlierc        1\n",
       "Outlierb,c      1\n",
       "Name: Modeling set assignment, dtype: int64"
      ]
     },
     "execution_count": 5,
     "metadata": {},
     "output_type": "execute_result"
    }
   ],
   "source": [
    "df[\"Modeling set assignment\"].value_counts()"
   ]
  },
  {
   "cell_type": "code",
   "execution_count": 6,
   "metadata": {},
   "outputs": [],
   "source": [
    "df[\"ADAPT model residual\"] = df[\"Observed log10(CMC)\"] - df[\"Computed log10(CMC) ADAPT model\"]\n",
    "df[\"Molconn model residual\"] = df[\"Observed log10(CMC)\"] - df[\"Computed log10(CMC) Molconn model\"]"
   ]
  },
  {
   "cell_type": "code",
   "execution_count": 7,
   "metadata": {},
   "outputs": [
    {
     "data": {
      "text/html": [
       "<div>\n",
       "<style scoped>\n",
       "    .dataframe tbody tr th:only-of-type {\n",
       "        vertical-align: middle;\n",
       "    }\n",
       "\n",
       "    .dataframe tbody tr th {\n",
       "        vertical-align: top;\n",
       "    }\n",
       "\n",
       "    .dataframe thead th {\n",
       "        text-align: right;\n",
       "    }\n",
       "</style>\n",
       "<table border=\"1\" class=\"dataframe\">\n",
       "  <thead>\n",
       "    <tr style=\"text-align: right;\">\n",
       "      <th></th>\n",
       "      <th>ADAPT model residual</th>\n",
       "      <th>Molconn model residual</th>\n",
       "    </tr>\n",
       "    <tr>\n",
       "      <th>Modeling set assignment</th>\n",
       "      <th></th>\n",
       "      <th></th>\n",
       "    </tr>\n",
       "  </thead>\n",
       "  <tbody>\n",
       "    <tr>\n",
       "      <th>Ext. Pred.</th>\n",
       "      <td>0.216438</td>\n",
       "      <td>0.197944</td>\n",
       "    </tr>\n",
       "    <tr>\n",
       "      <th>Outlierb</th>\n",
       "      <td>1.036967</td>\n",
       "      <td>0.087464</td>\n",
       "    </tr>\n",
       "    <tr>\n",
       "      <th>Outlierb,c</th>\n",
       "      <td>2.910000</td>\n",
       "      <td>1.830000</td>\n",
       "    </tr>\n",
       "    <tr>\n",
       "      <th>Outlierc</th>\n",
       "      <td>0.500000</td>\n",
       "      <td>1.750000</td>\n",
       "    </tr>\n",
       "    <tr>\n",
       "      <th>Training</th>\n",
       "      <td>0.193952</td>\n",
       "      <td>0.169302</td>\n",
       "    </tr>\n",
       "  </tbody>\n",
       "</table>\n",
       "</div>"
      ],
      "text/plain": [
       "                         ADAPT model residual  Molconn model residual\n",
       "Modeling set assignment                                              \n",
       "Ext. Pred.                           0.216438                0.197944\n",
       "Outlierb                             1.036967                0.087464\n",
       "Outlierb,c                           2.910000                1.830000\n",
       "Outlierc                             0.500000                1.750000\n",
       "Training                             0.193952                0.169302"
      ]
     },
     "execution_count": 7,
     "metadata": {},
     "output_type": "execute_result"
    }
   ],
   "source": [
    "df.groupby(\"Modeling set assignment\")[[\"ADAPT model residual\", \"Molconn model residual\"]].aggregate(lambda x: np.sqrt(np.mean(np.square(x))))"
   ]
  }
 ],
 "metadata": {
  "kernelspec": {
   "display_name": "Python 3.10.6 ('camcann')",
   "language": "python",
   "name": "python3"
  },
  "language_info": {
   "codemirror_mode": {
    "name": "ipython",
    "version": 3
   },
   "file_extension": ".py",
   "mimetype": "text/x-python",
   "name": "python",
   "nbconvert_exporter": "python",
   "pygments_lexer": "ipython3",
   "version": "3.10.6"
  },
  "orig_nbformat": 4,
  "vscode": {
   "interpreter": {
    "hash": "9ce59170dfbe5c01770d6f66953ef16419d0bbc8db583fba7cc80e4ff7e134e3"
   }
  }
 },
 "nbformat": 4,
 "nbformat_minor": 2
}
