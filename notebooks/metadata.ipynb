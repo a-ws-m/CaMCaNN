{
 "cells": [
  {
   "cell_type": "code",
   "execution_count": 1,
   "metadata": {},
   "outputs": [],
   "source": [
    "from pathlib import Path\n",
    "from rdkit.Chem import MolFromSmiles\n",
    "\n",
    "from camcann.data.io import DataReader, Datasets\n",
    "from camcann.data.featurise import ECFPCountFeaturiser, SMILESHashes\n",
    "\n",
    "HERE = Path(\".\")\n",
    "HASH_PATH =  HERE / \"full_hash.csv\"\n",
    "FEATURES_PATH = HERE / \"features_df.csv\""
   ]
  },
  {
   "cell_type": "code",
   "execution_count": 2,
   "metadata": {},
   "outputs": [
    {
     "data": {
      "text/html": [
       "<div>\n",
       "<style scoped>\n",
       "    .dataframe tbody tr th:only-of-type {\n",
       "        vertical-align: middle;\n",
       "    }\n",
       "\n",
       "    .dataframe tbody tr th {\n",
       "        vertical-align: top;\n",
       "    }\n",
       "\n",
       "    .dataframe thead th {\n",
       "        text-align: right;\n",
       "    }\n",
       "</style>\n",
       "<table border=\"1\" class=\"dataframe\">\n",
       "  <thead>\n",
       "    <tr style=\"text-align: right;\">\n",
       "      <th></th>\n",
       "      <th>log CMC</th>\n",
       "    </tr>\n",
       "  </thead>\n",
       "  <tbody>\n",
       "    <tr>\n",
       "      <th>count</th>\n",
       "      <td>306.000000</td>\n",
       "    </tr>\n",
       "    <tr>\n",
       "      <th>mean</th>\n",
       "      <td>3.424285</td>\n",
       "    </tr>\n",
       "    <tr>\n",
       "      <th>std</th>\n",
       "      <td>1.278517</td>\n",
       "    </tr>\n",
       "    <tr>\n",
       "      <th>min</th>\n",
       "      <td>-0.795880</td>\n",
       "    </tr>\n",
       "    <tr>\n",
       "      <th>25%</th>\n",
       "      <td>2.567742</td>\n",
       "    </tr>\n",
       "    <tr>\n",
       "      <th>50%</th>\n",
       "      <td>3.518514</td>\n",
       "    </tr>\n",
       "    <tr>\n",
       "      <th>75%</th>\n",
       "      <td>4.249067</td>\n",
       "    </tr>\n",
       "    <tr>\n",
       "      <th>max</th>\n",
       "      <td>6.414973</td>\n",
       "    </tr>\n",
       "  </tbody>\n",
       "</table>\n",
       "</div>"
      ],
      "text/plain": [
       "          log CMC\n",
       "count  306.000000\n",
       "mean     3.424285\n",
       "std      1.278517\n",
       "min     -0.795880\n",
       "25%      2.567742\n",
       "50%      3.518514\n",
       "75%      4.249067\n",
       "max      6.414973"
      ]
     },
     "execution_count": 2,
     "metadata": {},
     "output_type": "execute_result"
    }
   ],
   "source": [
    "all_data = DataReader(Datasets.QIN_AND_NIST_ANIONICS).df\n",
    "all_data.describe()"
   ]
  },
  {
   "cell_type": "code",
   "execution_count": 3,
   "metadata": {},
   "outputs": [],
   "source": [
    "all_molecules = [MolFromSmiles(smile) for smile in all_data.SMILES]"
   ]
  },
  {
   "cell_type": "code",
   "execution_count": 4,
   "metadata": {},
   "outputs": [],
   "source": [
    "if HASH_PATH.exists():\n",
    "    smiles_hashes = SMILESHashes.load(HASH_PATH)\n",
    "    featuriser = ECFPCountFeaturiser(smiles_hashes)\n",
    "else:\n",
    "    featuriser = ECFPCountFeaturiser()"
   ]
  },
  {
   "cell_type": "code",
   "execution_count": 5,
   "metadata": {},
   "outputs": [
    {
     "name": "stdout",
     "output_type": "stream",
     "text": [
      "Number of unique groups: 624.\n"
     ]
    }
   ],
   "source": [
    "all_features = featuriser.featurise_molecules(all_molecules, 2, add_new_hashes=True)\n",
    "featuriser.smiles_hashes.save(HASH_PATH)\n",
    "print(f\"Number of unique groups: {len(featuriser.smiles_hashes)}.\")"
   ]
  },
  {
   "cell_type": "code",
   "execution_count": 6,
   "metadata": {},
   "outputs": [],
   "source": [
    "features_df = featuriser.label_features(all_features, all_data.SMILES)\n",
    "features_df.to_csv(FEATURES_PATH)"
   ]
  },
  {
   "cell_type": "code",
   "execution_count": 7,
   "metadata": {},
   "outputs": [
    {
     "name": "stdout",
     "output_type": "stream",
     "text": [
      "Number of groups that occur in multiple compounds: 416\n"
     ]
    }
   ],
   "source": [
    "count_nonzero = features_df > 0\n",
    "nnz = count_nonzero.sum()\n",
    "num_shared = (nnz > 1).sum()\n",
    "print(f\"Number of groups that occur in multiple compounds: {num_shared}\")"
   ]
  }
 ],
 "metadata": {
  "kernelspec": {
   "display_name": "Python 3.10.4 ('molplotly')",
   "language": "python",
   "name": "python3"
  },
  "language_info": {
   "codemirror_mode": {
    "name": "ipython",
    "version": 3
   },
   "file_extension": ".py",
   "mimetype": "text/x-python",
   "name": "python",
   "nbconvert_exporter": "python",
   "pygments_lexer": "ipython3",
   "version": "3.10.4"
  },
  "orig_nbformat": 4,
  "vscode": {
   "interpreter": {
    "hash": "40647fe7268a6d433199542b9e0a807913404aa1fea9e1cd07ae99da7761cc90"
   }
  }
 },
 "nbformat": 4,
 "nbformat_minor": 2
}
