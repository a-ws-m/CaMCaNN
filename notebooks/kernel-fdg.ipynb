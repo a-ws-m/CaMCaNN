{
 "cells": [
  {
   "attachments": {},
   "cell_type": "markdown",
   "metadata": {},
   "source": [
    "# Force-directed graph visualisation\n",
    "\n",
    "This notebook visualises the molecules using a force-directed graph layout,\n",
    "so that the distances between each molecule (a point on the graph) are determined\n",
    "as though they were connected by springs with a spring constant given by the kernel function."
   ]
  },
  {
   "cell_type": "code",
   "execution_count": 1,
   "metadata": {},
   "outputs": [],
   "source": [
    "USE_MOLPLOTLY: bool = False\n",
    "\n",
    "import re\n",
    "\n",
    "import matplotlib.pyplot as plt\n",
    "if USE_MOLPLOTLY:\n",
    "    import molplotly\n",
    "import numpy as np\n",
    "import pandas as pd\n",
    "import plotly.express as px\n",
    "import plotly.offline as py\n",
    "import seaborn as sns\n",
    "from scipy.stats import norm\n",
    "from fa2 import ForceAtlas2\n"
   ]
  },
  {
   "attachments": {},
   "cell_type": "markdown",
   "metadata": {},
   "source": [
    "First we load the data."
   ]
  },
  {
   "cell_type": "code",
   "execution_count": 2,
   "metadata": {},
   "outputs": [],
   "source": [
    "kernel_df = pd.read_csv(\"full_kernel.csv\")\n",
    "kernel_mat = kernel_df.loc[:, \"K0\":].values"
   ]
  },
  {
   "cell_type": "code",
   "execution_count": 3,
   "metadata": {},
   "outputs": [
    {
     "data": {
      "text/plain": [
       "0.27906976744186046"
      ]
     },
     "execution_count": 3,
     "metadata": {},
     "output_type": "execute_result"
    }
   ],
   "source": [
    "nist_pred_df = pd.read_csv(\"uq_nist_pred.csv\")\n",
    "nist_pred_df[\"resid\"] = nist_pred_df[\"log CMC\"] - nist_pred_df[\"pred\"]\n",
    "# Normalise with respect to standard deviations\n",
    "nist_pred_df[\"norm resid\"] = nist_pred_df[\"resid\"] / nist_pred_df[\"stddev\"]\n",
    "nist_pred_df[\"cdf\"] = norm.cdf(nist_pred_df[\"norm resid\"])\n",
    "nist_pred_df[\"Above 95% CI\"] = nist_pred_df[\"cdf\"] > 0.95\n",
    "nist_pred_df[\"Above 95% CI\"].sum() / len(nist_pred_df[\"Above 95% CI\"])"
   ]
  },
  {
   "cell_type": "code",
   "execution_count": 4,
   "metadata": {},
   "outputs": [],
   "source": [
    "def get_counterion(smiles: str) -> str:\n",
    "    \"\"\"Get the counterion for a smiles string\"\"\"\n",
    "    pattern = r\"\\.(?P<counterion>\\S+)\"\n",
    "    match = re.search(pattern, smiles)\n",
    "    if match:\n",
    "        counterion = match.group(\"counterion\")\n",
    "        if \".\" in counterion:\n",
    "            multivalent_patt = r\"(\\[\\S+[\\+-]\\])(\\.\\1)+\"\n",
    "            mulit_match = re.search(multivalent_patt, counterion)\n",
    "            if mulit_match:\n",
    "                return mulit_match.group(1)\n",
    "            else:\n",
    "                last_bit_patt = r\"\\S+\\.(\\S+)$\"\n",
    "                last_bit_match = re.search(last_bit_patt, counterion)\n",
    "                if last_bit_match:\n",
    "                    return last_bit_match.group(1)\n",
    "                else:\n",
    "                    raise ValueError(\"No match!\")\n",
    "        elif \"C[N+]\" in counterion or \"CC\" in counterion:\n",
    "            return \"Quat\"\n",
    "        else:\n",
    "            return counterion\n",
    "    else:\n",
    "        return \"Nonionic\""
   ]
  },
  {
   "cell_type": "code",
   "execution_count": 5,
   "metadata": {},
   "outputs": [],
   "source": [
    "def add_cols(df: pd.DataFrame):\n",
    "    df[\"Counterion\"] = df[\"SMILES\"].apply(get_counterion)\n",
    "    df[\"Source\"] = [\"Qin\" if pd.isna(convertable) else \"NIST\" for convertable in df[\"Convertable\"]]"
   ]
  },
  {
   "cell_type": "code",
   "execution_count": 6,
   "metadata": {},
   "outputs": [],
   "source": [
    "add_cols(kernel_df)\n",
    "kernel_df = kernel_df.merge(nist_pred_df, on=\"Molecule name\", how=\"left\")\n",
    "kernel_df[\"Above 95% CI\"] = kernel_df[\"Above 95% CI\"].apply(lambda x: x is True)"
   ]
  },
  {
   "attachments": {},
   "cell_type": "markdown",
   "metadata": {},
   "source": [
    "Now we compute the positions and add them to the dataframe."
   ]
  },
  {
   "cell_type": "code",
   "execution_count": 7,
   "metadata": {},
   "outputs": [],
   "source": [
    "forceatlas2 = ForceAtlas2(\n",
    "    # Behavior alternatives\n",
    "    outboundAttractionDistribution=False, # Dissuade hubs\n",
    "    linLogMode=False,  # NOT IMPLEMENTED\n",
    "    adjustSizes=False,  # Prevent overlap (NOT IMPLEMENTED)\n",
    "    edgeWeightInfluence=2.0,\n",
    "    # Performance\n",
    "    jitterTolerance=1.0,  # Tolerance\n",
    "    barnesHutOptimize=True,\n",
    "    barnesHutTheta=1.2,\n",
    "    multiThreaded=False,  # NOT IMPLEMENTED\n",
    "    # Tuning\n",
    "    scalingRatio=2.0,\n",
    "    strongGravityMode=True,\n",
    "    gravity=1.0,\n",
    "    # Log\n",
    "    verbose=True,\n",
    ")"
   ]
  },
  {
   "cell_type": "code",
   "execution_count": 8,
   "metadata": {},
   "outputs": [
    {
     "name": "stderr",
     "output_type": "stream",
     "text": [
      "100%|██████████| 5000/5000 [00:35<00:00, 140.20it/s]"
     ]
    },
    {
     "name": "stdout",
     "output_type": "stream",
     "text": [
      "BarnesHut Approximation  took  2.21  seconds\n",
      "Repulsion forces  took  11.90  seconds\n",
      "Gravitational forces  took  0.03  seconds\n",
      "Attraction forces  took  20.39  seconds\n",
      "AdjustSpeedAndApplyForces step  took  0.46  seconds\n"
     ]
    },
    {
     "name": "stderr",
     "output_type": "stream",
     "text": [
      "\n"
     ]
    }
   ],
   "source": [
    "positions = forceatlas2.forceatlas2(kernel_mat, iterations=5000)"
   ]
  },
  {
   "cell_type": "code",
   "execution_count": 9,
   "metadata": {},
   "outputs": [
    {
     "data": {
      "text/plain": [
       "(245, 2)"
      ]
     },
     "execution_count": 9,
     "metadata": {},
     "output_type": "execute_result"
    }
   ],
   "source": [
    "positions = np.array(positions)\n",
    "positions.shape"
   ]
  },
  {
   "cell_type": "code",
   "execution_count": 10,
   "metadata": {},
   "outputs": [],
   "source": [
    "kernel_df[\"Force X\"] = positions[:, 0]\n",
    "kernel_df[\"Force Y\"] = positions[:, 1]"
   ]
  },
  {
   "cell_type": "markdown",
   "metadata": {},
   "source": [
    "Lastly, we plot the data!"
   ]
  },
  {
   "cell_type": "code",
   "execution_count": 11,
   "metadata": {},
   "outputs": [],
   "source": [
    "all_counterions = kernel_df[\"Counterion\"].unique()\n",
    "counterion_order = list(all_counterions)"
   ]
  },
  {
   "cell_type": "code",
   "execution_count": 23,
   "metadata": {},
   "outputs": [
    {
     "data": {
      "image/png": "[encoded data removed]",
      "text/plain": [
       "<Figure size 640x480 with 1 Axes>"
      ]
     },
     "metadata": {},
     "output_type": "display_data"
    }
   ],
   "source": [
    "fg = sns.scatterplot(\n",
    "    kernel_df,\n",
    "    x=\"Force X\",\n",
    "    y=\"Force Y\",\n",
    "    style=\"Counterion\",\n",
    "    # size=\"Source\",\n",
    "    hue=\"Counterion\",\n",
    "    # size_order=[\"NIST\", \"Qin\"],\n",
    "    # sizes=(50, 100),\n",
    "    hue_order=counterion_order,\n",
    "    style_order=counterion_order,\n",
    ")\n",
    "fg.set(xlabel=None, ylabel=None, xticks=[], yticks=[])\n",
    "plt.axis(\"equal\")\n",
    "ax = plt.gca()\n",
    "sns.move_legend(ax, \"upper left\", bbox_to_anchor=(1, 1))\n"
   ]
  },
  {
   "cell_type": "code",
   "execution_count": 13,
   "metadata": {},
   "outputs": [
    {
     "data": {
      "image/png": "[encoded data removed]",
      "text/plain": [
       "<Figure size 640x480 with 1 Axes>"
      ]
     },
     "metadata": {},
     "output_type": "display_data"
    }
   ],
   "source": [
    "fig, ax = plt.subplots(1, 1)\n",
    "just_qin = kernel_df[kernel_df[\"Source\"] == \"Qin\"]\n",
    "\n",
    "qin_counterion_counts = just_qin[\"Counterion\"].value_counts()\n",
    "include_kde = just_qin[\"Counterion\"].apply(lambda x: qin_counterion_counts[x] > 2)\n",
    "\n",
    "included_counterions = set(just_qin[include_kde][\"Counterion\"].unique())\n",
    "included_counterions = included_counterions | set(kernel_df[kernel_df[\"Above 95% CI\"]][\"Counterion\"].unique())\n",
    "included_counterions = list(included_counterions)\n",
    "\n",
    "fg = sns.kdeplot(\n",
    "    just_qin[include_kde],\n",
    "    x=\"Force X\",\n",
    "    y=\"Force Y\",\n",
    "    hue=\"Counterion\",\n",
    "    hue_order=counterion_order,\n",
    "    ax=ax,\n",
    "    fill=True,\n",
    "    bw_adjust=0.5,\n",
    ")\n",
    "sns.scatterplot(\n",
    "    kernel_df[kernel_df[\"Above 95% CI\"]],\n",
    "    x=\"Force X\",\n",
    "    y=\"Force Y\",\n",
    "    style=\"Counterion\",\n",
    "    hue=\"Counterion\",\n",
    "    hue_order=counterion_order,\n",
    "    style_order=counterion_order,\n",
    "    ax=ax,\n",
    ")\n",
    "\n",
    "fg.set(xlabel=None, ylabel=None, xticks=[], yticks=[])\n",
    "plt.axis(\"equal\")\n",
    "ax = plt.gca()\n",
    "sns.move_legend(ax, \"upper left\", bbox_to_anchor=(1, 1))\n"
   ]
  },
  {
   "cell_type": "code",
   "execution_count": 14,
   "metadata": {},
   "outputs": [
    {
     "data": {
      "application/vnd.plotly.v1+json": {
       "config": {
        "linkText": "Export to plot.ly",
        "plotlyServerURL": "https://plot.ly",
        "showLink": false
       },
       "data": [
        {
         "hovertemplate": "Counterion=Nonionic<br>Force X=%{x}<br>Force Y=%{y}<extra></extra>",
         "legendgroup": "Nonionic",
         "marker": {
          "color": "#636efa",
          "symbol": "circle"
         },
         "mode": "markers",
         "name": "Nonionic",
         "orientation": "v",
         "showlegend": true,
         "type": "scatter",
         "x": [
          -35.409463406090545,
          0.3390806087466953,
          -46.55729660415127,
          -64.84113504117548,
          -17.416975058213236,
          -32.77610414523463,
          -25.281399854460233,
          -16.817640190497126,
          -19.004959085722902,
          -24.2597756531023,
          -9.170446274215351,
          13.125584340255722,
          -1.3811887318683715,
          -29.08909828079662,
          -33.376065987687525,
          -10.469330563125068,
          -2.3358266072772125,
          8.586821927538525,
          12.091612333799619,
          13.862276976794464,
          -25.88595007027752,
          -21.956437783563615,
          -11.79782698795731,
          -23.2042428287568,
          4.050080806139472,
          -9.272254651555157,
          -26.21610438696281,
          -17.83254174076411,
          26.025965153660145,
          -7.455057946070401,
          -104.78226036591693,
          -91.81938079689428,
          -104.42739523640282,
          -103.38004506071815,
          -90.5077503053847,
          -43.321186933106425,
          39.178724971684325,
          1.0633117552359388,
          13.1027237765104,
          41.94302064708077,
          -4.158990707718777,
          -19.506521297185742,
          22.398982640177945,
          58.6032286911024,
          -51.6859729202922,
          -72.79777063742031,
          -71.51163212185618,
          25.739366596653525,
          -32.86665850183282,
          -51.33087754280499,
          -29.07904395505687,
          -105.51290268768103,
          -96.73072184862616,
          -87.52859344628524,
          -80.73735356797869,
          -66.88510596482003,
          -50.67689252913255,
          -126.49610346952676,
          -63.407897492761236,
          -68.77711559219321,
          -66.64766094563193,
          -86.39737023077362,
          -66.89784956970173,
          -82.86477748552336,
          -32.537596907700774,
          -18.681578090858043,
          -34.03105796766323,
          -46.053719150041,
          -24.152486230538333,
          -74.29633430828895,
          4.110260878327905,
          -67.0985452437415,
          -81.47285203929917,
          -19.582036167117355,
          -74.52816050950051,
          -57.25330538567291,
          -36.58270648994774,
          -18.23383630128142,
          1.8616392606696548,
          -72.92498438340037,
          -57.18726636173036,
          -43.609370508488766,
          -74.73588426159688,
          -44.37868703536228,
          -52.97740845838144,
          -2.325756092613661,
          -41.08297558464021,
          -62.67504119526247,
          -1.4307682732778506,
          -44.808141897323544,
          -62.366712060327046,
          -63.494660278255175,
          -58.96225380548144,
          -43.76533129531108,
          -86.62071085523755,
          -62.95054808547247,
          -43.60422976247892,
          -81.98178940486697,
          -25.31313602595357,
          -59.888591012368614,
          -13.645897190813065,
          -69.32770470095909,
          -20.582363984768428,
          -70.98424318417382,
          -29.17839849885293,
          -50.31769766704287,
          -54.56650545474841,
          -44.76833209221027,
          -59.497547865701556,
          -72.85570921613201,
          -42.66465146660978,
          -83.27317261468393,
          -87.87483204610326,
          -105.93258140091683,
          -58.70749226400995,
          -54.33252694254442,
          -19.70759420762497,
          -39.762696249282975,
          -37.75272729140708,
          22.94411273581148,
          -43.906196121128,
          2.5236013194789497,
          25.262851320916177,
          28.88237738624377,
          30.032176388967617,
          16.55450595964362,
          -15.46157438322494,
          48.11413450472381,
          -22.59532835889965,
          25.271601763109555,
          25.19350424900023,
          13.840733346189529,
          42.03119884924045,
          -40.77045203200724,
          3.212183120711622,
          6.615750632235173,
          9.24230378151808,
          15.626340906542307,
          -49.94544836640932,
          -44.560282500132985,
          1.328028767579421,
          -21.290788278450574,
          -107.97458969049475,
          2.4033912323708364,
          -11.690127568618422
         ],
         "xaxis": "x",
         "y": [
          -23.090893433569263,
          -36.55078999570155,
          7.049224722066862,
          -50.656839820499755,
          -47.665072365242644,
          -2.746030817699287,
          -47.51869713088704,
          -7.808235344192415,
          -35.164134126862926,
          10.681677362530113,
          -58.20492198606711,
          -24.389179190110212,
          4.479467312402016,
          15.534901639123806,
          27.08665212708296,
          -38.87087408526669,
          -26.66484557883858,
          -5.999037137294669,
          -3.7743068298812616,
          -48.58377236060825,
          -25.416251512347777,
          -10.259727989592838,
          15.651944144848683,
          37.41649540659408,
          0.3570223436872113,
          44.65758467830051,
          52.06001617085679,
          54.52653522913276,
          -85.5928662280201,
          -19.632182256157357,
          37.3509153640628,
          47.768534706423644,
          1.4324130427543398,
          -45.614559707452294,
          -84.96924321291259,
          -122.57021141472866,
          -124.47047626670027,
          -103.36087037275419,
          -114.19645153677271,
          -104.84192261130542,
          -113.97051390392892,
          -126.73853866785461,
          -104.527895010353,
          -107.84150376650537,
          72.76064087168763,
          54.1024101359948,
          71.7455660838884,
          -58.01815357702408,
          67.29613723705117,
          -23.646093912815687,
          -39.493692835019,
          -36.60847713290712,
          -1.8644623921759413,
          -61.7383886719671,
          -47.259086402561145,
          -76.2843215981398,
          -10.804951695742902,
          4.182081031333259,
          -24.784798519659745,
          -41.92418551762201,
          -48.31028675302219,
          -21.042119076364965,
          -68.02589364651082,
          -40.79172374703628,
          -58.733306514137574,
          -58.02817902361254,
          -71.13607098812584,
          -69.62895622537036,
          -81.87903916623083,
          3.8923405267028226,
          20.807486159944567,
          12.85639195676169,
          -11.457560247174246,
          -67.35010246783179,
          38.1716491479717,
          59.20732747609733,
          -17.330038265700086,
          1.0792745598774482,
          9.269881603777499,
          -26.53925959696208,
          -68.11058927264605,
          5.249302868794967,
          -31.441733411779182,
          -20.65493838308836,
          -40.18566381480184,
          -84.68494153458445,
          -101.40877916516686,
          -97.08118723748659,
          -42.121676818174485,
          -60.489538808731155,
          0.8299625652667693,
          -13.237694981771988,
          10.317170372354662,
          40.27669054262821,
          32.91682900796746,
          54.94673009360837,
          32.11031528149343,
          18.248206122159274,
          25.069990328995544,
          32.89989175476462,
          11.373304771525007,
          -17.344424401246595,
          -24.684186034568267,
          -4.7159167046691675,
          36.16271509115554,
          21.60633349787487,
          25.034797915748456,
          53.41505596047323,
          18.20432333112546,
          23.204060979344707,
          -5.622045381419498,
          5.2633899561019515,
          -9.18050298728407,
          23.176853342038264,
          38.179527430508486,
          -44.55311430407445,
          -19.59683975399701,
          -79.15685553825844,
          7.1627707375369525,
          -27.067373452273245,
          -31.794105433814504,
          -48.339371169033925,
          -37.68687223663432,
          -47.13597946137275,
          -22.690593348192373,
          21.444485716094732,
          69.36111493157692,
          -61.66196058052574,
          80.13331565065258,
          -10.960550098293332,
          2.305482473395588,
          47.055810021835235,
          -47.520514096432414,
          -44.463221213335146,
          -76.17959413678868,
          -87.21858599098108,
          -64.70640391053767,
          -43.02023871200308,
          -82.95397225958095,
          -52.110958761282106,
          -62.37980378591402,
          -97.40171482264546,
          -21.231976491911603,
          -18.94937214224697,
          -76.2073615657901
         ],
         "yaxis": "y"
        },
        {
         "hovertemplate": "Counterion=[Br-]<br>Force X=%{x}<br>Force Y=%{y}<extra></extra>",
         "legendgroup": "[Br-]",
         "marker": {
          "color": "#EF553B",
          "symbol": "circle"
         },
         "mode": "markers",
         "name": "[Br-]",
         "orientation": "v",
         "showlegend": true,
         "type": "scatter",
         "x": [
          62.661460355825774,
          77.13985152200857,
          72.52272637307446,
          55.423167232917685,
          59.900761013804804,
          35.81660712274232,
          56.0084556859326,
          29.957966784632735,
          61.8677594944762,
          46.79998614388909,
          57.90945931964705,
          85.69843588858461,
          83.70548222019107,
          73.49205792497531,
          49.02282740199486,
          78.93261745252047,
          55.50255973681871,
          64.8684543245648,
          61.3926891527446,
          57.97211483247801,
          63.28746528545368,
          62.85324163846847
         ],
         "xaxis": "x",
         "y": [
          -53.51750682357709,
          -48.863995569972694,
          -20.20634125409512,
          -22.90475708401955,
          11.292567498082438,
          24.45409301707057,
          29.150569868054248,
          35.71735159534941,
          25.857833936031984,
          21.86716214039235,
          -24.734411630095316,
          -18.308701043613908,
          -4.231640775195854,
          3.4188864697615156,
          2.757039847986154,
          -35.15151458898878,
          -4.338076809232559,
          -32.94712096565325,
          -65.06647007172123,
          -44.12521483940327,
          2.522280846562032,
          -10.834989096469343
         ],
         "yaxis": "y"
        },
        {
         "hovertemplate": "Counterion=[Cl-]<br>Force X=%{x}<br>Force Y=%{y}<extra></extra>",
         "legendgroup": "[Cl-]",
         "marker": {
          "color": "#00cc96",
          "symbol": "circle"
         },
         "mode": "markers",
         "name": "[Cl-]",
         "orientation": "v",
         "showlegend": true,
         "type": "scatter",
         "x": [
          80.17421328867296,
          104.5297066081396,
          91.51915223240854,
          94.36411646155514,
          119.10899414093402,
          89.58903256568706,
          92.6326528490548,
          76.07944061029609,
          95.05549662233689,
          110.23217751380034,
          93.03911510587159,
          87.53745240625034,
          106.39948270562256,
          87.61245733909509
         ],
         "xaxis": "x",
         "y": [
          29.867860613014145,
          -17.762337729471774,
          -47.532397474227736,
          -8.533464376189674,
          -7.7138005368636975,
          19.42088308424812,
          -35.0617414334858,
          21.472488111490986,
          1.0522597071733766,
          -30.473969392330652,
          -22.422199460546775,
          16.540113071894577,
          10.895312649450497,
          10.027695845534032
         ],
         "yaxis": "y"
        },
        {
         "hovertemplate": "Counterion=[I-]<br>Force X=%{x}<br>Force Y=%{y}<extra></extra>",
         "legendgroup": "[I-]",
         "marker": {
          "color": "#ab63fa",
          "symbol": "circle"
         },
         "mode": "markers",
         "name": "[I-]",
         "orientation": "v",
         "showlegend": true,
         "type": "scatter",
         "x": [
          40.76112468398217
         ],
         "xaxis": "x",
         "y": [
          -0.2466107504510554
         ],
         "yaxis": "y"
        },
        {
         "hovertemplate": "Counterion=[Na+]<br>Force X=%{x}<br>Force Y=%{y}<extra></extra>",
         "legendgroup": "[Na+]",
         "marker": {
          "color": "#FFA15A",
          "symbol": "circle"
         },
         "mode": "markers",
         "name": "[Na+]",
         "orientation": "v",
         "showlegend": true,
         "type": "scatter",
         "x": [
          128.1629780686616,
          83.08310852845715,
          109.48255332558706,
          78.16542629893715,
          46.71038353355185,
          59.29355685615622,
          84.45061819894997,
          39.9466233904138,
          9.101014654715614,
          61.17623185846017,
          33.55878516522458,
          91.39704442645589,
          61.538455333798,
          53.52993979227432,
          30.701114029598603,
          58.06278443748701,
          13.992476984902854,
          34.73879580618124,
          90.50738329783522,
          60.494744805387626,
          103.46052525888966,
          90.97378293465054,
          44.25272441164921,
          78.86403179399113,
          68.76163089718676,
          106.40240387270983,
          107.33811812741921,
          24.871272068336307,
          48.22825866207368,
          132.42643391027772,
          120.59938981422034,
          0.35894162049784484,
          42.46492347657415,
          83.78707315485302,
          92.70931003673218,
          117.55365202742396,
          67.36336816978323,
          28.685963519398577,
          20.41981607675718
         ],
         "xaxis": "x",
         "y": [
          -67.71311722049683,
          -70.31249331994624,
          76.68601228914086,
          88.58309521461055,
          46.399224785303886,
          52.45280770205262,
          46.430198853188756,
          45.90711895069839,
          74.31353145352658,
          67.09631456945979,
          76.9343556132921,
          63.350747552142934,
          85.21589604559642,
          64.57450155341883,
          101.26754477345047,
          93.34302789463244,
          97.12786767623597,
          89.2644273589298,
          40.010366418706354,
          41.60044121094883,
          -44.66727463422522,
          -60.12368730837901,
          94.12074181421136,
          70.42806271227757,
          63.47164415413542,
          51.75791685191527,
          30.3538894020639,
          68.89141066550825,
          76.13835128064352,
          -0.45333222276687896,
          20.602534408638938,
          83.96890290114611,
          63.646749892358116,
          53.78730765426542,
          50.22500571037542,
          41.706178275377006,
          44.970367052400746,
          54.53789080403583,
          79.47248390495612
         ],
         "yaxis": "y"
        },
        {
         "hovertemplate": "Counterion=[Li+]<br>Force X=%{x}<br>Force Y=%{y}<extra></extra>",
         "legendgroup": "[Li+]",
         "marker": {
          "color": "#19d3f3",
          "symbol": "circle"
         },
         "mode": "markers",
         "name": "[Li+]",
         "orientation": "v",
         "showlegend": true,
         "type": "scatter",
         "x": [
          -2.372705425243921,
          -58.94492850129097,
          -127.11739549257044,
          -159.66791941182927,
          -76.86934057242216
         ],
         "xaxis": "x",
         "y": [
          279.89125270537517,
          280.2288416875047,
          197.8834854212879,
          264.94566217106217,
          221.51008597329036
         ],
         "yaxis": "y"
        },
        {
         "hovertemplate": "Counterion=[NH4+]<br>Force X=%{x}<br>Force Y=%{y}<extra></extra>",
         "legendgroup": "[NH4+]",
         "marker": {
          "color": "#FF6692",
          "symbol": "circle"
         },
         "mode": "markers",
         "name": "[NH4+]",
         "orientation": "v",
         "showlegend": true,
         "type": "scatter",
         "x": [
          27.103405927935796
         ],
         "xaxis": "x",
         "y": [
          -326.4245486204364
         ],
         "yaxis": "y"
        },
        {
         "hovertemplate": "Counterion=[K+]<br>Force X=%{x}<br>Force Y=%{y}<extra></extra>",
         "legendgroup": "[K+]",
         "marker": {
          "color": "#B6E880",
          "symbol": "circle"
         },
         "mode": "markers",
         "name": "[K+]",
         "orientation": "v",
         "showlegend": true,
         "type": "scatter",
         "x": [
          4.644897866060107,
          -16.569423340205365,
          196.24009907824535,
          202.80696972111656,
          182.54947639102733
         ],
         "xaxis": "x",
         "y": [
          111.40016028163852,
          112.87258214706696,
          48.4905686397658,
          -6.318218424501423,
          -44.810451270550296
         ],
         "yaxis": "y"
        },
        {
         "hovertemplate": "Counterion=Quat<br>Force X=%{x}<br>Force Y=%{y}<extra></extra>",
         "legendgroup": "Quat",
         "marker": {
          "color": "#FF97FF",
          "symbol": "circle"
         },
         "mode": "markers",
         "name": "Quat",
         "orientation": "v",
         "showlegend": true,
         "type": "scatter",
         "x": [
          -245.8427338362883,
          30.72652062435025,
          0.1425480631461142,
          20.622420979816965,
          18.795699795103058,
          8.309786079094753,
          -0.26827350624709956,
          -314.6162585380112
         ],
         "xaxis": "x",
         "y": [
          45.47506473330793,
          -71.71500161661947,
          58.440664351079654,
          23.841766470524234,
          6.258428198034143,
          32.772318345504296,
          50.618865845959895,
          122.80890098217054
         ],
         "yaxis": "y"
        },
        {
         "hovertemplate": "Counterion=O=S(=O)([O-])[O-]<br>Force X=%{x}<br>Force Y=%{y}<extra></extra>",
         "legendgroup": "O=S(=O)([O-])[O-]",
         "marker": {
          "color": "#FECB52",
          "symbol": "circle"
         },
         "mode": "markers",
         "name": "O=S(=O)([O-])[O-]",
         "orientation": "v",
         "showlegend": true,
         "type": "scatter",
         "x": [
          -37.53783344208641
         ],
         "xaxis": "x",
         "y": [
          120.75828877635571
         ],
         "yaxis": "y"
        },
        {
         "hovertemplate": "Counterion=O=[N+]([O-])[O-]<br>Force X=%{x}<br>Force Y=%{y}<extra></extra>",
         "legendgroup": "O=[N+]([O-])[O-]",
         "marker": {
          "color": "#636efa",
          "symbol": "circle"
         },
         "mode": "markers",
         "name": "O=[N+]([O-])[O-]",
         "orientation": "v",
         "showlegend": true,
         "type": "scatter",
         "x": [
          0.14146668222338876
         ],
         "xaxis": "x",
         "y": [
          31.75177381846846
         ],
         "yaxis": "y"
        },
        {
         "hovertemplate": "Counterion=[O-][Br+2]([O-])[O-]<br>Force X=%{x}<br>Force Y=%{y}<extra></extra>",
         "legendgroup": "[O-][Br+2]([O-])[O-]",
         "marker": {
          "color": "#EF553B",
          "symbol": "circle"
         },
         "mode": "markers",
         "name": "[O-][Br+2]([O-])[O-]",
         "orientation": "v",
         "showlegend": true,
         "type": "scatter",
         "x": [
          -16.502125091711658,
          -33.02188705870363
         ],
         "xaxis": "x",
         "y": [
          32.162843321040626,
          54.93658256948193
         ],
         "yaxis": "y"
        },
        {
         "hovertemplate": "Counterion=O=C[O-]<br>Force X=%{x}<br>Force Y=%{y}<extra></extra>",
         "legendgroup": "O=C[O-]",
         "marker": {
          "color": "#00cc96",
          "symbol": "circle"
         },
         "mode": "markers",
         "name": "O=C[O-]",
         "orientation": "v",
         "showlegend": true,
         "type": "scatter",
         "x": [
          37.489790354066685
         ],
         "xaxis": "x",
         "y": [
          -27.545320953139782
         ],
         "yaxis": "y"
        }
       ],
       "layout": {
        "height": 1000,
        "legend": {
         "title": {
          "text": "Counterion"
         },
         "tracegroupgap": 0
        },
        "margin": {
         "t": 60
        },
        "scene": {
         "aspectmode": "data"
        },
        "template": {
         "data": {
          "bar": [
           {
            "error_x": {
             "color": "#2a3f5f"
            },
            "error_y": {
             "color": "#2a3f5f"
            },
            "marker": {
             "line": {
              "color": "#E5ECF6",
              "width": 0.5
             },
             "pattern": {
              "fillmode": "overlay",
              "size": 10,
              "solidity": 0.2
             }
            },
            "type": "bar"
           }
          ],
          "barpolar": [
           {
            "marker": {
             "line": {
              "color": "#E5ECF6",
              "width": 0.5
             },
             "pattern": {
              "fillmode": "overlay",
              "size": 10,
              "solidity": 0.2
             }
            },
            "type": "barpolar"
           }
          ],
          "carpet": [
           {
            "aaxis": {
             "endlinecolor": "#2a3f5f",
             "gridcolor": "white",
             "linecolor": "white",
             "minorgridcolor": "white",
             "startlinecolor": "#2a3f5f"
            },
            "baxis": {
             "endlinecolor": "#2a3f5f",
             "gridcolor": "white",
             "linecolor": "white",
             "minorgridcolor": "white",
             "startlinecolor": "#2a3f5f"
            },
            "type": "carpet"
           }
          ],
          "choropleth": [
           {
            "colorbar": {
             "outlinewidth": 0,
             "ticks": ""
            },
            "type": "choropleth"
           }
          ],
          "contour": [
           {
            "colorbar": {
             "outlinewidth": 0,
             "ticks": ""
            },
            "colorscale": [
             [
              0,
              "#0d0887"
             ],
             [
              0.1111111111111111,
              "#46039f"
             ],
             [
              0.2222222222222222,
              "#7201a8"
             ],
             [
              0.3333333333333333,
              "#9c179e"
             ],
             [
              0.4444444444444444,
              "#bd3786"
             ],
             [
              0.5555555555555556,
              "#d8576b"
             ],
             [
              0.6666666666666666,
              "#ed7953"
             ],
             [
              0.7777777777777778,
              "#fb9f3a"
             ],
             [
              0.8888888888888888,
              "#fdca26"
             ],
             [
              1,
              "#f0f921"
             ]
            ],
            "type": "contour"
           }
          ],
          "contourcarpet": [
           {
            "colorbar": {
             "outlinewidth": 0,
             "ticks": ""
            },
            "type": "contourcarpet"
           }
          ],
          "heatmap": [
           {
            "colorbar": {
             "outlinewidth": 0,
             "ticks": ""
            },
            "colorscale": [
             [
              0,
              "#0d0887"
             ],
             [
              0.1111111111111111,
              "#46039f"
             ],
             [
              0.2222222222222222,
              "#7201a8"
             ],
             [
              0.3333333333333333,
              "#9c179e"
             ],
             [
              0.4444444444444444,
              "#bd3786"
             ],
             [
              0.5555555555555556,
              "#d8576b"
             ],
             [
              0.6666666666666666,
              "#ed7953"
             ],
             [
              0.7777777777777778,
              "#fb9f3a"
             ],
             [
              0.8888888888888888,
              "#fdca26"
             ],
             [
              1,
              "#f0f921"
             ]
            ],
            "type": "heatmap"
           }
          ],
          "heatmapgl": [
           {
            "colorbar": {
             "outlinewidth": 0,
             "ticks": ""
            },
            "colorscale": [
             [
              0,
              "#0d0887"
             ],
             [
              0.1111111111111111,
              "#46039f"
             ],
             [
              0.2222222222222222,
              "#7201a8"
             ],
             [
              0.3333333333333333,
              "#9c179e"
             ],
             [
              0.4444444444444444,
              "#bd3786"
             ],
             [
              0.5555555555555556,
              "#d8576b"
             ],
             [
              0.6666666666666666,
              "#ed7953"
             ],
             [
              0.7777777777777778,
              "#fb9f3a"
             ],
             [
              0.8888888888888888,
              "#fdca26"
             ],
             [
              1,
              "#f0f921"
             ]
            ],
            "type": "heatmapgl"
           }
          ],
          "histogram": [
           {
            "marker": {
             "pattern": {
              "fillmode": "overlay",
              "size": 10,
              "solidity": 0.2
             }
            },
            "type": "histogram"
           }
          ],
          "histogram2d": [
           {
            "colorbar": {
             "outlinewidth": 0,
             "ticks": ""
            },
            "colorscale": [
             [
              0,
              "#0d0887"
             ],
             [
              0.1111111111111111,
              "#46039f"
             ],
             [
              0.2222222222222222,
              "#7201a8"
             ],
             [
              0.3333333333333333,
              "#9c179e"
             ],
             [
              0.4444444444444444,
              "#bd3786"
             ],
             [
              0.5555555555555556,
              "#d8576b"
             ],
             [
              0.6666666666666666,
              "#ed7953"
             ],
             [
              0.7777777777777778,
              "#fb9f3a"
             ],
             [
              0.8888888888888888,
              "#fdca26"
             ],
             [
              1,
              "#f0f921"
             ]
            ],
            "type": "histogram2d"
           }
          ],
          "histogram2dcontour": [
           {
            "colorbar": {
             "outlinewidth": 0,
             "ticks": ""
            },
            "colorscale": [
             [
              0,
              "#0d0887"
             ],
             [
              0.1111111111111111,
              "#46039f"
             ],
             [
              0.2222222222222222,
              "#7201a8"
             ],
             [
              0.3333333333333333,
              "#9c179e"
             ],
             [
              0.4444444444444444,
              "#bd3786"
             ],
             [
              0.5555555555555556,
              "#d8576b"
             ],
             [
              0.6666666666666666,
              "#ed7953"
             ],
             [
              0.7777777777777778,
              "#fb9f3a"
             ],
             [
              0.8888888888888888,
              "#fdca26"
             ],
             [
              1,
              "#f0f921"
             ]
            ],
            "type": "histogram2dcontour"
           }
          ],
          "mesh3d": [
           {
            "colorbar": {
             "outlinewidth": 0,
             "ticks": ""
            },
            "type": "mesh3d"
           }
          ],
          "parcoords": [
           {
            "line": {
             "colorbar": {
              "outlinewidth": 0,
              "ticks": ""
             }
            },
            "type": "parcoords"
           }
          ],
          "pie": [
           {
            "automargin": true,
            "type": "pie"
           }
          ],
          "scatter": [
           {
            "fillpattern": {
             "fillmode": "overlay",
             "size": 10,
             "solidity": 0.2
            },
            "type": "scatter"
           }
          ],
          "scatter3d": [
           {
            "line": {
             "colorbar": {
              "outlinewidth": 0,
              "ticks": ""
             }
            },
            "marker": {
             "colorbar": {
              "outlinewidth": 0,
              "ticks": ""
             }
            },
            "type": "scatter3d"
           }
          ],
          "scattercarpet": [
           {
            "marker": {
             "colorbar": {
              "outlinewidth": 0,
              "ticks": ""
             }
            },
            "type": "scattercarpet"
           }
          ],
          "scattergeo": [
           {
            "marker": {
             "colorbar": {
              "outlinewidth": 0,
              "ticks": ""
             }
            },
            "type": "scattergeo"
           }
          ],
          "scattergl": [
           {
            "marker": {
             "colorbar": {
              "outlinewidth": 0,
              "ticks": ""
             }
            },
            "type": "scattergl"
           }
          ],
          "scattermapbox": [
           {
            "marker": {
             "colorbar": {
              "outlinewidth": 0,
              "ticks": ""
             }
            },
            "type": "scattermapbox"
           }
          ],
          "scatterpolar": [
           {
            "marker": {
             "colorbar": {
              "outlinewidth": 0,
              "ticks": ""
             }
            },
            "type": "scatterpolar"
           }
          ],
          "scatterpolargl": [
           {
            "marker": {
             "colorbar": {
              "outlinewidth": 0,
              "ticks": ""
             }
            },
            "type": "scatterpolargl"
           }
          ],
          "scatterternary": [
           {
            "marker": {
             "colorbar": {
              "outlinewidth": 0,
              "ticks": ""
             }
            },
            "type": "scatterternary"
           }
          ],
          "surface": [
           {
            "colorbar": {
             "outlinewidth": 0,
             "ticks": ""
            },
            "colorscale": [
             [
              0,
              "#0d0887"
             ],
             [
              0.1111111111111111,
              "#46039f"
             ],
             [
              0.2222222222222222,
              "#7201a8"
             ],
             [
              0.3333333333333333,
              "#9c179e"
             ],
             [
              0.4444444444444444,
              "#bd3786"
             ],
             [
              0.5555555555555556,
              "#d8576b"
             ],
             [
              0.6666666666666666,
              "#ed7953"
             ],
             [
              0.7777777777777778,
              "#fb9f3a"
             ],
             [
              0.8888888888888888,
              "#fdca26"
             ],
             [
              1,
              "#f0f921"
             ]
            ],
            "type": "surface"
           }
          ],
          "table": [
           {
            "cells": {
             "fill": {
              "color": "#EBF0F8"
             },
             "line": {
              "color": "white"
             }
            },
            "header": {
             "fill": {
              "color": "#C8D4E3"
             },
             "line": {
              "color": "white"
             }
            },
            "type": "table"
           }
          ]
         },
         "layout": {
          "annotationdefaults": {
           "arrowcolor": "#2a3f5f",
           "arrowhead": 0,
           "arrowwidth": 1
          },
          "autotypenumbers": "strict",
          "coloraxis": {
           "colorbar": {
            "outlinewidth": 0,
            "ticks": ""
           }
          },
          "colorscale": {
           "diverging": [
            [
             0,
             "#8e0152"
            ],
            [
             0.1,
             "#c51b7d"
            ],
            [
             0.2,
             "#de77ae"
            ],
            [
             0.3,
             "#f1b6da"
            ],
            [
             0.4,
             "#fde0ef"
            ],
            [
             0.5,
             "#f7f7f7"
            ],
            [
             0.6,
             "#e6f5d0"
            ],
            [
             0.7,
             "#b8e186"
            ],
            [
             0.8,
             "#7fbc41"
            ],
            [
             0.9,
             "#4d9221"
            ],
            [
             1,
             "#276419"
            ]
           ],
           "sequential": [
            [
             0,
             "#0d0887"
            ],
            [
             0.1111111111111111,
             "#46039f"
            ],
            [
             0.2222222222222222,
             "#7201a8"
            ],
            [
             0.3333333333333333,
             "#9c179e"
            ],
            [
             0.4444444444444444,
             "#bd3786"
            ],
            [
             0.5555555555555556,
             "#d8576b"
            ],
            [
             0.6666666666666666,
             "#ed7953"
            ],
            [
             0.7777777777777778,
             "#fb9f3a"
            ],
            [
             0.8888888888888888,
             "#fdca26"
            ],
            [
             1,
             "#f0f921"
            ]
           ],
           "sequentialminus": [
            [
             0,
             "#0d0887"
            ],
            [
             0.1111111111111111,
             "#46039f"
            ],
            [
             0.2222222222222222,
             "#7201a8"
            ],
            [
             0.3333333333333333,
             "#9c179e"
            ],
            [
             0.4444444444444444,
             "#bd3786"
            ],
            [
             0.5555555555555556,
             "#d8576b"
            ],
            [
             0.6666666666666666,
             "#ed7953"
            ],
            [
             0.7777777777777778,
             "#fb9f3a"
            ],
            [
             0.8888888888888888,
             "#fdca26"
            ],
            [
             1,
             "#f0f921"
            ]
           ]
          },
          "colorway": [
           "#636efa",
           "#EF553B",
           "#00cc96",
           "#ab63fa",
           "#FFA15A",
           "#19d3f3",
           "#FF6692",
           "#B6E880",
           "#FF97FF",
           "#FECB52"
          ],
          "font": {
           "color": "#2a3f5f"
          },
          "geo": {
           "bgcolor": "white",
           "lakecolor": "white",
           "landcolor": "#E5ECF6",
           "showlakes": true,
           "showland": true,
           "subunitcolor": "white"
          },
          "hoverlabel": {
           "align": "left"
          },
          "hovermode": "closest",
          "mapbox": {
           "style": "light"
          },
          "paper_bgcolor": "white",
          "plot_bgcolor": "#E5ECF6",
          "polar": {
           "angularaxis": {
            "gridcolor": "white",
            "linecolor": "white",
            "ticks": ""
           },
           "bgcolor": "#E5ECF6",
           "radialaxis": {
            "gridcolor": "white",
            "linecolor": "white",
            "ticks": ""
           }
          },
          "scene": {
           "xaxis": {
            "backgroundcolor": "#E5ECF6",
            "gridcolor": "white",
            "gridwidth": 2,
            "linecolor": "white",
            "showbackground": true,
            "ticks": "",
            "zerolinecolor": "white"
           },
           "yaxis": {
            "backgroundcolor": "#E5ECF6",
            "gridcolor": "white",
            "gridwidth": 2,
            "linecolor": "white",
            "showbackground": true,
            "ticks": "",
            "zerolinecolor": "white"
           },
           "zaxis": {
            "backgroundcolor": "#E5ECF6",
            "gridcolor": "white",
            "gridwidth": 2,
            "linecolor": "white",
            "showbackground": true,
            "ticks": "",
            "zerolinecolor": "white"
           }
          },
          "shapedefaults": {
           "line": {
            "color": "#2a3f5f"
           }
          },
          "ternary": {
           "aaxis": {
            "gridcolor": "white",
            "linecolor": "white",
            "ticks": ""
           },
           "baxis": {
            "gridcolor": "white",
            "linecolor": "white",
            "ticks": ""
           },
           "bgcolor": "#E5ECF6",
           "caxis": {
            "gridcolor": "white",
            "linecolor": "white",
            "ticks": ""
           }
          },
          "title": {
           "x": 0.05
          },
          "xaxis": {
           "automargin": true,
           "gridcolor": "white",
           "linecolor": "white",
           "ticks": "",
           "title": {
            "standoff": 15
           },
           "zerolinecolor": "white",
           "zerolinewidth": 2
          },
          "yaxis": {
           "automargin": true,
           "gridcolor": "white",
           "linecolor": "white",
           "ticks": "",
           "title": {
            "standoff": 15
           },
           "zerolinecolor": "white",
           "zerolinewidth": 2
          }
         }
        },
        "width": 1000,
        "xaxis": {
         "anchor": "y",
         "domain": [
          0,
          1
         ],
         "title": {
          "text": "Force X"
         }
        },
        "yaxis": {
         "anchor": "x",
         "domain": [
          0,
          1
         ],
         "scaleanchor": "x",
         "scaleratio": 1,
         "title": {
          "text": "Force Y"
         }
        }
       }
      }
     },
     "metadata": {},
     "output_type": "display_data"
    }
   ],
   "source": [
    "fig = px.scatter(kernel_df, x=\"Force X\", y=\"Force Y\", color=\"Counterion\")\n",
    "fig.update_layout(width=1000, height=1000)\n",
    "fig.update_yaxes(scaleanchor=\"x\", scaleratio=1)\n",
    "fig[\"layout\"].update(scene=dict(aspectmode=\"data\"))\n",
    "if USE_MOLPLOTLY:\n",
    "    app = molplotly.add_molecules(fig=fig, df=kernel_df, smiles_col=\"SMILES\", color_col=\"Counterion\")\n",
    "    app.run_server(mode=\"inline\", port=8700)\n",
    "else:\n",
    "    py.iplot(fig, filename='fdg-plot-plotly')"
   ]
  },
  {
   "cell_type": "code",
   "execution_count": 15,
   "metadata": {},
   "outputs": [
    {
     "data": {
      "text/plain": [
       "array(['CCCCCCCCC(CC)OS(=O)(=O)[O-].C[N+](C)(C)C',\n",
       "       'CCCCCCCCC(CC)OS(=O)(=O)[O-].CCC[N+](CCC)(CCC)CCC',\n",
       "       'CCCCCCCCCCS(=O)(=O)[O-].CCCCCCCCCC[N+](C)(C)C',\n",
       "       'CCCCCCCCCCOS(=O)(=O)[O-].CCCCCCCCCC[N+](C)(C)C',\n",
       "       'CCCCCCCC[N+](C)(C)C.CCCCCCCCCCOS(=O)(=O)[O-]',\n",
       "       'CCCCCCCCCCCCOS(=O)(=O)[O-].CCCCCCCC[N+](C)(C)C',\n",
       "       'CCCCCCCCS(=O)(=O)[O-].CCCCCCCC[N+](C)(C)C',\n",
       "       'CCCCCCCCCCCCOS(=O)(=O)[O-].C[N+](C)(C)C'], dtype=object)"
      ]
     },
     "execution_count": 15,
     "metadata": {},
     "output_type": "execute_result"
    }
   ],
   "source": [
    "kernel_df[kernel_df[\"Counterion\"] == \"Quat\"][\"SMILES_x\"].values"
   ]
  }
 ],
 "metadata": {
  "kernelspec": {
   "display_name": "camcann",
   "language": "python",
   "name": "python3"
  },
  "language_info": {
   "codemirror_mode": {
    "name": "ipython",
    "version": 3
   },
   "file_extension": ".py",
   "mimetype": "text/x-python",
   "name": "python",
   "nbconvert_exporter": "python",
   "pygments_lexer": "ipython3",
   "version": "3.10.8"
  },
  "orig_nbformat": 4
 },
 "nbformat": 4,
 "nbformat_minor": 2
}
