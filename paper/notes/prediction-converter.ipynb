{
 "cells": [
  {
   "cell_type": "code",
   "execution_count": 1,
   "metadata": {},
   "outputs": [],
   "source": [
    "import numpy as np\n",
    "import pandas as pd"
   ]
  },
  {
   "cell_type": "code",
   "execution_count": 2,
   "metadata": {},
   "outputs": [],
   "source": [
    "def convert_units(cmc):\n",
    "    \"\"\"Convert from units of log(mol per litre) to log(micro mol per litre).\"\"\"\n",
    "    return np.log10(np.power(10, cmc) * 1e+6)"
   ]
  },
  {
   "cell_type": "code",
   "execution_count": 3,
   "metadata": {},
   "outputs": [
    {
     "data": {
      "text/html": [
       "<div>\n",
       "<style scoped>\n",
       "    .dataframe tbody tr th:only-of-type {\n",
       "        vertical-align: middle;\n",
       "    }\n",
       "\n",
       "    .dataframe tbody tr th {\n",
       "        vertical-align: top;\n",
       "    }\n",
       "\n",
       "    .dataframe thead th {\n",
       "        text-align: right;\n",
       "    }\n",
       "</style>\n",
       "<table border=\"1\" class=\"dataframe\">\n",
       "  <thead>\n",
       "    <tr style=\"text-align: right;\">\n",
       "      <th></th>\n",
       "      <th>Surfactant</th>\n",
       "      <th>Abbreviation</th>\n",
       "      <th>log10CMC (COSMOplex)</th>\n",
       "      <th>log10CMC (experimental)</th>\n",
       "    </tr>\n",
       "  </thead>\n",
       "  <tbody>\n",
       "    <tr>\n",
       "      <th>0</th>\n",
       "      <td>Triethylene glycol monohexyl ether</td>\n",
       "      <td>C6E3</td>\n",
       "      <td>-2.00</td>\n",
       "      <td>-1.00</td>\n",
       "    </tr>\n",
       "    <tr>\n",
       "      <th>1</th>\n",
       "      <td>Dimethyl nonylamine oxide</td>\n",
       "      <td>C9C2NO</td>\n",
       "      <td>-1.92</td>\n",
       "      <td>-1.27</td>\n",
       "    </tr>\n",
       "    <tr>\n",
       "      <th>2</th>\n",
       "      <td>Octyl Î²-d-glucoside</td>\n",
       "      <td>C8BG1</td>\n",
       "      <td>-2.92</td>\n",
       "      <td>-1.60</td>\n",
       "    </tr>\n",
       "    <tr>\n",
       "      <th>3</th>\n",
       "      <td>Triethylene glycol monooctyl ether</td>\n",
       "      <td>C8E3</td>\n",
       "      <td>-3.03</td>\n",
       "      <td>-2.12</td>\n",
       "    </tr>\n",
       "    <tr>\n",
       "      <th>4</th>\n",
       "      <td>Octyl Î±-glyceryl ether</td>\n",
       "      <td>C8BGLYE</td>\n",
       "      <td>-2.88</td>\n",
       "      <td>-2.24</td>\n",
       "    </tr>\n",
       "    <tr>\n",
       "      <th>5</th>\n",
       "      <td>Octyl glycol ether</td>\n",
       "      <td>C8E1</td>\n",
       "      <td>-3.14</td>\n",
       "      <td>-2.31</td>\n",
       "    </tr>\n",
       "    <tr>\n",
       "      <th>6</th>\n",
       "      <td>Triethylene glycol monodecyl ether</td>\n",
       "      <td>C10E3</td>\n",
       "      <td>-3.67</td>\n",
       "      <td>-3.22</td>\n",
       "    </tr>\n",
       "    <tr>\n",
       "      <th>7</th>\n",
       "      <td>Dodecyl Î²-d-glucoside</td>\n",
       "      <td>C12BG1</td>\n",
       "      <td>-4.21</td>\n",
       "      <td>-3.72</td>\n",
       "    </tr>\n",
       "    <tr>\n",
       "      <th>8</th>\n",
       "      <td>Octoxynol-2</td>\n",
       "      <td>C8(C6H4)E2</td>\n",
       "      <td>-4.15</td>\n",
       "      <td>-3.88</td>\n",
       "    </tr>\n",
       "    <tr>\n",
       "      <th>9</th>\n",
       "      <td>Hexaethylene glycol monododecyl ether</td>\n",
       "      <td>C12E6</td>\n",
       "      <td>-5.40</td>\n",
       "      <td>-4.06</td>\n",
       "    </tr>\n",
       "  </tbody>\n",
       "</table>\n",
       "</div>"
      ],
      "text/plain": [
       "                              Surfactant Abbreviation  log10CMC (COSMOplex)  \\\n",
       "0     Triethylene glycol monohexyl ether         C6E3                 -2.00   \n",
       "1              Dimethyl nonylamine oxide       C9C2NO                 -1.92   \n",
       "2                   Octyl Î²-d-glucoside        C8BG1                 -2.92   \n",
       "3     Triethylene glycol monooctyl ether         C8E3                 -3.03   \n",
       "4                Octyl Î±-glyceryl ether      C8BGLYE                 -2.88   \n",
       "5                     Octyl glycol ether         C8E1                 -3.14   \n",
       "6     Triethylene glycol monodecyl ether        C10E3                 -3.67   \n",
       "7                 Dodecyl Î²-d-glucoside       C12BG1                 -4.21   \n",
       "8                            Octoxynol-2   C8(C6H4)E2                 -4.15   \n",
       "9  Hexaethylene glycol monododecyl ether        C12E6                 -5.40   \n",
       "\n",
       "   log10CMC (experimental)  \n",
       "0                    -1.00  \n",
       "1                    -1.27  \n",
       "2                    -1.60  \n",
       "3                    -2.12  \n",
       "4                    -2.24  \n",
       "5                    -2.31  \n",
       "6                    -3.22  \n",
       "7                    -3.72  \n",
       "8                    -3.88  \n",
       "9                    -4.06  "
      ]
     },
     "execution_count": 3,
     "metadata": {},
     "output_type": "execute_result"
    }
   ],
   "source": [
    "df = pd.read_html(\"cosmoplex.html\", header=0)[0]\n",
    "df"
   ]
  },
  {
   "cell_type": "code",
   "execution_count": 4,
   "metadata": {},
   "outputs": [],
   "source": [
    "df[\"pred\"] = convert_units(df[\"log10CMC (COSMOplex)\"])\n",
    "df[\"exp\"] = convert_units(df[\"log10CMC (experimental)\"])\n",
    "df[\"resid\"] = df[\"exp\"] - df[\"pred\"]"
   ]
  },
  {
   "cell_type": "code",
   "execution_count": 6,
   "metadata": {},
   "outputs": [
    {
     "data": {
      "text/plain": [
       "0.8603836353627374"
      ]
     },
     "execution_count": 6,
     "metadata": {},
     "output_type": "execute_result"
    }
   ],
   "source": [
    "rmse = np.sqrt(np.mean(np.square(df[\"resid\"])))\n",
    "rmse"
   ]
  }
 ],
 "metadata": {
  "kernelspec": {
   "display_name": "camcann",
   "language": "python",
   "name": "python3"
  },
  "language_info": {
   "codemirror_mode": {
    "name": "ipython",
    "version": 3
   },
   "file_extension": ".py",
   "mimetype": "text/x-python",
   "name": "python",
   "nbconvert_exporter": "python",
   "pygments_lexer": "ipython3",
   "version": "3.10.8"
  },
  "orig_nbformat": 4
 },
 "nbformat": 4,
 "nbformat_minor": 2
}
